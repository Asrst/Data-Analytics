{
 "cells": [
  {
   "cell_type": "code",
   "execution_count": 1,
   "metadata": {},
   "outputs": [],
   "source": [
    "import numpy as np\n",
    "import pandas as pd"
   ]
  },
  {
   "cell_type": "code",
   "execution_count": 2,
   "metadata": {},
   "outputs": [
    {
     "name": "stdout",
     "output_type": "stream",
     "text": [
      "(31104, 12)\n",
      "Index(['Timestamp', 'Current', 'Total voltage', 'SOC', 'Temperature', 'SOH',\n",
      "       'Equivalent cycle', 'Application status', 'Grid status', 'Grid power',\n",
      "       'Grid energy consumption', 'Grid cumulative energy consumption'],\n",
      "      dtype='object')\n"
     ]
    },
    {
     "data": {
      "text/plain": [
       "Timestamp                             0\n",
       "Current                               0\n",
       "Total voltage                         0\n",
       "SOC                                   0\n",
       "Temperature                           0\n",
       "SOH                                   0\n",
       "Equivalent cycle                      0\n",
       "Application status                    0\n",
       "Grid status                           0\n",
       "Grid power                            0\n",
       "Grid energy consumption               0\n",
       "Grid cumulative energy consumption    0\n",
       "dtype: int64"
      ]
     },
     "execution_count": 2,
     "metadata": {},
     "output_type": "execute_result"
    }
   ],
   "source": [
    "df = pd.read_csv('telecom_battery.csv')\n",
    "print(df.shape), print(df.columns)\n",
    "df.isnull().sum() # df.dtypes"
   ]
  },
  {
   "cell_type": "markdown",
   "metadata": {},
   "source": [
    "- 12 variables in the given dataset.\n",
    "- No null values in data."
   ]
  },
  {
   "cell_type": "code",
   "execution_count": 3,
   "metadata": {},
   "outputs": [
    {
     "data": {
      "text/plain": [
       "Timestamp                             [31104, 1556701215000.0, 1587804215000.0]\n",
       "Current                                                       [3, -300.0, 10.0]\n",
       "Total voltage                                       [12415, 48.16034624, 66.72]\n",
       "SOC                                                  [11395, -0.155713561, 1.0]\n",
       "Temperature                                   [31104, 20.26327524, 136.1181556]\n",
       "SOH                                                   [31104, 0.919398347, 1.0]\n",
       "Equivalent cycle                                      [11397, 0.0, 107.8477185]\n",
       "Application status                                                [2, 0.0, 1.0]\n",
       "Grid status                                                       [2, 0.0, 1.0]\n",
       "Grid power                                      [11028, 0.0, 654.0143492999999]\n",
       "Grid energy consumption                        [11028, 0.0, 181.67065259999998]\n",
       "Grid cumulative energy consumption             [11029, 0.0, 1913713.1509999998]\n",
       "dtype: object"
      ]
     },
     "execution_count": 3,
     "metadata": {},
     "output_type": "execute_result"
    }
   ],
   "source": [
    "df.apply(lambda x: [len(x.unique()), min(x), max(x)])"
   ]
  },
  {
   "cell_type": "markdown",
   "metadata": {},
   "source": [
    "- 'Timestamp' = the length of unix time stamp given is 13. So it is in the milli seconds...dividing it by 1000 gives us the actual time stamp in seconds...using it we can convert to date time format. \n",
    "- 'Current' = In general, current (i) is a continous varaible Although there are only 3 unique values and looks like a categorical variable here.\n",
    "- 'Total voltage' = continous variable\n",
    "- 'SOC' = state of charge = continous variable\n",
    "- 'Temperature' = continous variable\n",
    "- 'SOH' = state of health = continous variable\n",
    "- 'Equivalent Cycle' = continous variable\n",
    "- 'Application Status' = clearly yes/no type and is is categorical variable\n",
    "- 'Grid Status' = clearly yes/no type and is is categorical variable\n",
    "- 'Grid Power' = continous variable\n",
    "- 'Grid Energy Consumption' = continous variable\n",
    "- 'Grid Cumulative Energy Consumption' = continous variable\n",
    "\n",
    "So In Overall, there are 2 categorical variables (Grid status & Application status), 1 time variable (Timestamp) & 9 continous variables."
   ]
  },
  {
   "cell_type": "markdown",
   "metadata": {},
   "source": [
    "#### converting unix timestamp to datetime"
   ]
  },
  {
   "cell_type": "code",
   "execution_count": 4,
   "metadata": {},
   "outputs": [
    {
     "name": "stdout",
     "output_type": "stream",
     "text": [
      "time delta for each observation: 1000 seconds\n"
     ]
    },
    {
     "data": {
      "text/plain": [
       "(Timestamp('2019-05-01 09:00:15'), Timestamp('2020-04-25 08:43:35'))"
      ]
     },
     "execution_count": 4,
     "metadata": {},
     "output_type": "execute_result"
    }
   ],
   "source": [
    "# converting to seconds (standard posix time)\n",
    "df['Timestamp'] = df['Timestamp'].apply(lambda x: x/1000)\n",
    "df['Timestamp'] = pd.to_datetime(df['Timestamp'], unit = 's')\n",
    "\n",
    "diff = df['Timestamp'].values[2] - df['Timestamp'].values[1]\n",
    "print('time delta for each observation:', diff.astype('timedelta64[s]'))\n",
    "df['Timestamp'].min(), df['Timestamp'].max()"
   ]
  },
  {
   "cell_type": "markdown",
   "metadata": {},
   "source": [
    "- data collected is from 01-05-2019 to 25-04-2020 in time delta of 1000 seconds.\n",
    "- Scatter Plot are simple way to identify the linear relationship or if two variables are correlated.\n",
    "- Statiscally, we can measure the correlation b/w two numerical variables using Pearson\\Spearman correlation coefficeints.\n",
    "- Typically, correlation coefficients lie in range of -1 (strong negative correalation) to 1 (strong positive correlation).\n",
    "- If correlation value is 0, it represents there is no relation b/w the given variables.\n",
    "- Pearson correlation is used on data with normal distrbution and Spearman correlation is used on non-standarized data to migitate the affect of the outliers.\n",
    "\n",
    "\n",
    "- Null Hypothesis (H0) : two variables are not correlated to each other.\n",
    "- Alternate Hypothesis : two variables are correlated\n",
    "- I will be using Spearman correlation coefficient as, data is not standardized, there can be outliers."
   ]
  },
  {
   "cell_type": "code",
   "execution_count": 5,
   "metadata": {},
   "outputs": [],
   "source": [
    "import seaborn as sns\n",
    "from matplotlib import pyplot as plt\n",
    "from scipy.stats import pointbiserialr, spearmanr \n",
    "\n",
    "# null hypothesis H0 = there is no correlation between the two variables\n",
    "# p < 0.05 reject null hypothesis\n",
    "\n",
    "def test_correlation(x, y, method = 'spearman'):\n",
    "    \n",
    "    \"\"\"\n",
    "    function to test spearman/pointbiseralr correlation b/w two variables.\n",
    "    \n",
    "    :param x: Pandas series\n",
    "    :param y: Pandas series\n",
    "    :param method: choose from 'spearman' (spearmanr) or 'pbs'(pointbiserialr)\n",
    "    \"\"\"\n",
    "    \n",
    "    # spearman rank correlation is robust to outliers due to ranking\n",
    "    plt.figure(figsize = (6,4))\n",
    "    plt.scatter(x, y)\n",
    "    plt.title('Scatter plot b/w {} & {}'.format(x.name, y.name))\n",
    "    plt.xlabel(x.name)\n",
    "    plt.ylabel(y.name)\n",
    "    \n",
    "    if method == 'spearman':\n",
    "        result = spearmanr(x, y)\n",
    "    elif method == 'pbs':\n",
    "        result = pointbiserialr(x, y)\n",
    "        \n",
    "    return result"
   ]
  },
  {
   "cell_type": "markdown",
   "metadata": {},
   "source": [
    "#### 'Grid Status' v/s 'SOC' (categorical v/s continous)"
   ]
  },
  {
   "cell_type": "code",
   "execution_count": 6,
   "metadata": {},
   "outputs": [
    {
     "data": {
      "text/plain": [
       "PointbiserialrResult(correlation=0.22794666128545965, pvalue=0.0)"
      ]
     },
     "execution_count": 6,
     "metadata": {},
     "output_type": "execute_result"
    },
    {
     "data": {
      "image/png": "[encoded data removed]",
      "text/plain": [
       "<Figure size 432x288 with 1 Axes>"
      ]
     },
     "metadata": {
      "needs_background": "light"
     },
     "output_type": "display_data"
    }
   ],
   "source": [
    "test_correlation(df['Grid status'], df['SOC'], method = 'pbs')"
   ]
  },
  {
   "cell_type": "markdown",
   "metadata": {},
   "source": [
    "- The relation between Grid Status' and 'SOC' (categorical v/s continous) can termed as weak positive correlation.\n",
    "- I have used the point-bi-serial correlation as Grid status is a binary variable & SOC is continous variable. Spearman correlation co-efficient is more suitable for the conitnous data.\n",
    "- The p value 0 is less than 5% significance & we can reject the null hypothesis that two variables are not related."
   ]
  },
  {
   "cell_type": "markdown",
   "metadata": {},
   "source": [
    "#### 'Equivalent Cycle' v/s 'SOH' (continous v/s continous)"
   ]
  },
  {
   "cell_type": "code",
   "execution_count": 7,
   "metadata": {},
   "outputs": [
    {
     "data": {
      "text/plain": [
       "SpearmanrResult(correlation=-0.9999891918148037, pvalue=0.0)"
      ]
     },
     "execution_count": 7,
     "metadata": {},
     "output_type": "execute_result"
    },
    {
     "data": {
      "image/png": "[encoded data removed]",
      "text/plain": [
       "<Figure size 432x288 with 1 Axes>"
      ]
     },
     "metadata": {
      "needs_background": "light"
     },
     "output_type": "display_data"
    }
   ],
   "source": [
    "test_correlation(df['Equivalent cycle'], df['SOH'], method = 'spearman')"
   ]
  },
  {
   "cell_type": "markdown",
   "metadata": {},
   "source": [
    "- The relation between 'Equivalent Cycle' v/s 'SOH' (continous v/s continous) can termed as strong negative correlation.\n",
    "- The p value 0 is less than 5% significance (0.05) & we can reject the null hypothesis that two variables are not related."
   ]
  },
  {
   "cell_type": "markdown",
   "metadata": {},
   "source": [
    "#### 'SOC' v/s 'Temperature' (continous v/s continous)"
   ]
  },
  {
   "cell_type": "code",
   "execution_count": 8,
   "metadata": {},
   "outputs": [
    {
     "data": {
      "text/plain": [
       "SpearmanrResult(correlation=-0.2066032952919746, pvalue=5.306806318224385e-297)"
      ]
     },
     "execution_count": 8,
     "metadata": {},
     "output_type": "execute_result"
    },
    {
     "data": {
      "image/png": "[encoded data removed]",
      "text/plain": [
       "<Figure size 432x288 with 1 Axes>"
      ]
     },
     "metadata": {
      "needs_background": "light"
     },
     "output_type": "display_data"
    }
   ],
   "source": [
    "test_correlation(df['SOC'], df['Temperature'], method = 'spearman')"
   ]
  },
  {
   "cell_type": "markdown",
   "metadata": {},
   "source": [
    "- The relation between - 'SOC' v/s 'Temperature'(continous v/s continous) can termed as weak negative correlation.\n",
    "- The p value 0 is less than 5% significance (0.05) & we can reject the null hypothesis that two variables are not related."
   ]
  }
 ],
 "metadata": {
  "kernelspec": {
   "display_name": "Python 3",
   "language": "python",
   "name": "python3"
  },
  "language_info": {
   "codemirror_mode": {
    "name": "ipython",
    "version": 3
   },
   "file_extension": ".py",
   "mimetype": "text/x-python",
   "name": "python",
   "nbconvert_exporter": "python",
   "pygments_lexer": "ipython3",
   "version": "3.7.4"
  }
 },
 "nbformat": 4,
 "nbformat_minor": 2
}
