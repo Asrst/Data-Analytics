{
 "cells": [
  {
   "cell_type": "code",
   "execution_count": 1,
   "metadata": {
    "execution": {
     "iopub.execute_input": "2020-11-21T18:30:17.271191Z",
     "iopub.status.busy": "2020-11-21T18:30:17.270297Z",
     "iopub.status.idle": "2020-11-21T18:30:17.273862Z",
     "shell.execute_reply": "2020-11-21T18:30:17.273056Z"
    },
    "papermill": {
     "duration": 0.031782,
     "end_time": "2020-11-21T18:30:17.274035",
     "exception": false,
     "start_time": "2020-11-21T18:30:17.242253",
     "status": "completed"
    },
    "tags": []
   },
   "outputs": [],
   "source": [
    "import os\n",
    "import numpy as np\n",
    "import pandas as pd"
   ]
  },
  {
   "cell_type": "code",
   "execution_count": 2,
   "metadata": {
    "execution": {
     "iopub.execute_input": "2020-11-21T18:30:17.317971Z",
     "iopub.status.busy": "2020-11-21T18:30:17.316876Z",
     "iopub.status.idle": "2020-11-21T18:30:17.320210Z",
     "shell.execute_reply": "2020-11-21T18:30:17.319475Z"
    },
    "papermill": {
     "duration": 0.026875,
     "end_time": "2020-11-21T18:30:17.320330",
     "exception": false,
     "start_time": "2020-11-21T18:30:17.293455",
     "status": "completed"
    },
    "tags": []
   },
   "outputs": [],
   "source": [
    "file_path = '../input/fashion-data-analytics/FashionData.xlsx'"
   ]
  },
  {
   "cell_type": "code",
   "execution_count": 3,
   "metadata": {
    "execution": {
     "iopub.execute_input": "2020-11-21T18:30:17.364947Z",
     "iopub.status.busy": "2020-11-21T18:30:17.364083Z",
     "iopub.status.idle": "2020-11-21T18:30:56.357647Z",
     "shell.execute_reply": "2020-11-21T18:30:56.356669Z"
    },
    "papermill": {
     "duration": 39.018157,
     "end_time": "2020-11-21T18:30:56.357805",
     "exception": false,
     "start_time": "2020-11-21T18:30:17.339648",
     "status": "completed"
    },
    "tags": []
   },
   "outputs": [],
   "source": [
    "df  = pd.read_excel(file_path, header = [1], na_values = ['null', 'undefined', ''])"
   ]
  },
  {
   "cell_type": "code",
   "execution_count": 4,
   "metadata": {
    "execution": {
     "iopub.execute_input": "2020-11-21T18:30:56.406004Z",
     "iopub.status.busy": "2020-11-21T18:30:56.404986Z",
     "iopub.status.idle": "2020-11-21T18:30:56.409603Z",
     "shell.execute_reply": "2020-11-21T18:30:56.410484Z"
    },
    "papermill": {
     "duration": 0.032561,
     "end_time": "2020-11-21T18:30:56.410699",
     "exception": false,
     "start_time": "2020-11-21T18:30:56.378138",
     "status": "completed"
    },
    "tags": []
   },
   "outputs": [
    {
     "name": "stdout",
     "output_type": "stream",
     "text": [
      "Dataset has 49999 rows & 15 columns\n",
      "Column Names: Index(['timestamp', 'user ID', 'ip_address', 'Product_Name', 'Product_ID',\n",
      "       'Is_First_Order', 'User_Gender', 'Payment_Type', 'Number_of_Products',\n",
      "       'Order_Coupon_Code', 'City', 'Country_Province', 'User_Birthday',\n",
      "       'Country', 'Revenue'],\n",
      "      dtype='object')\n"
     ]
    }
   ],
   "source": [
    "print('Dataset has {} rows & {} columns'.format(*df.shape))\n",
    "print('Column Names:', df.columns)"
   ]
  },
  {
   "cell_type": "code",
   "execution_count": 5,
   "metadata": {
    "execution": {
     "iopub.execute_input": "2020-11-21T18:30:56.468684Z",
     "iopub.status.busy": "2020-11-21T18:30:56.467394Z",
     "iopub.status.idle": "2020-11-21T18:30:56.473516Z",
     "shell.execute_reply": "2020-11-21T18:30:56.472679Z"
    },
    "papermill": {
     "duration": 0.040907,
     "end_time": "2020-11-21T18:30:56.473650",
     "exception": false,
     "start_time": "2020-11-21T18:30:56.432743",
     "status": "completed"
    },
    "tags": []
   },
   "outputs": [
    {
     "data": {
      "text/plain": [
       "timestamp             datetime64[ns]\n",
       "user ID                        int64\n",
       "ip_address                    object\n",
       "Product_Name                  object\n",
       "Product_ID                    object\n",
       "Is_First_Order               float64\n",
       "User_Gender                   object\n",
       "Payment_Type                  object\n",
       "Number_of_Products            object\n",
       "Order_Coupon_Code             object\n",
       "City                          object\n",
       "Country_Province              object\n",
       "User_Birthday         datetime64[ns]\n",
       "Country                       object\n",
       "Revenue                      float64\n",
       "dtype: object"
      ]
     },
     "execution_count": 5,
     "metadata": {},
     "output_type": "execute_result"
    }
   ],
   "source": [
    "df.dtypes"
   ]
  },
  {
   "cell_type": "code",
   "execution_count": 6,
   "metadata": {
    "execution": {
     "iopub.execute_input": "2020-11-21T18:30:56.524670Z",
     "iopub.status.busy": "2020-11-21T18:30:56.523598Z",
     "iopub.status.idle": "2020-11-21T18:30:56.531850Z",
     "shell.execute_reply": "2020-11-21T18:30:56.531219Z"
    },
    "papermill": {
     "duration": 0.035614,
     "end_time": "2020-11-21T18:30:56.532055",
     "exception": false,
     "start_time": "2020-11-21T18:30:56.496441",
     "status": "completed"
    },
    "tags": []
   },
   "outputs": [
    {
     "name": "stdout",
     "output_type": "stream",
     "text": [
      "start date: 2017-10-01 00:00:23 & end date: 2017-10-21 23:59:50\n",
      "Thats 21 days (3 weeks) of customer order/purchase data\n"
     ]
    }
   ],
   "source": [
    "print('start date:', df['timestamp'].min(), '& end date:', df['timestamp'].max())\n",
    "print('Thats 21 days (3 weeks) of customer order/purchase data')"
   ]
  },
  {
   "cell_type": "code",
   "execution_count": 7,
   "metadata": {
    "execution": {
     "iopub.execute_input": "2020-11-21T18:30:56.638945Z",
     "iopub.status.busy": "2020-11-21T18:30:56.580544Z",
     "iopub.status.idle": "2020-11-21T18:30:56.650986Z",
     "shell.execute_reply": "2020-11-21T18:30:56.650248Z"
    },
    "papermill": {
     "duration": 0.09727,
     "end_time": "2020-11-21T18:30:56.651110",
     "exception": false,
     "start_time": "2020-11-21T18:30:56.553840",
     "status": "completed"
    },
    "tags": []
   },
   "outputs": [
    {
     "data": {
      "text/plain": [
       "timestamp                 0\n",
       "user ID                   0\n",
       "ip_address                0\n",
       "Product_Name             15\n",
       "Product_ID               15\n",
       "Is_First_Order           15\n",
       "User_Gender            1189\n",
       "Payment_Type             15\n",
       "Number_of_Products       15\n",
       "Order_Coupon_Code     38120\n",
       "City                    352\n",
       "Country_Province       4195\n",
       "User_Birthday         27290\n",
       "Country                  15\n",
       "Revenue                  15\n",
       "dtype: int64"
      ]
     },
     "execution_count": 7,
     "metadata": {},
     "output_type": "execute_result"
    }
   ],
   "source": [
    "df.isnull().sum()"
   ]
  },
  {
   "cell_type": "code",
   "execution_count": 8,
   "metadata": {
    "execution": {
     "iopub.execute_input": "2020-11-21T18:30:56.721483Z",
     "iopub.status.busy": "2020-11-21T18:30:56.720655Z",
     "iopub.status.idle": "2020-11-21T18:30:56.776349Z",
     "shell.execute_reply": "2020-11-21T18:30:56.775437Z"
    },
    "papermill": {
     "duration": 0.102869,
     "end_time": "2020-11-21T18:30:56.776501",
     "exception": false,
     "start_time": "2020-11-21T18:30:56.673632",
     "status": "completed"
    },
    "tags": []
   },
   "outputs": [],
   "source": [
    "df = df.dropna(subset = ['Product_Name', 'Product_ID', 'Revenue']).reset_index(drop = 1)"
   ]
  },
  {
   "cell_type": "code",
   "execution_count": 9,
   "metadata": {
    "execution": {
     "iopub.execute_input": "2020-11-21T18:30:56.835680Z",
     "iopub.status.busy": "2020-11-21T18:30:56.831581Z",
     "iopub.status.idle": "2020-11-21T18:30:56.939731Z",
     "shell.execute_reply": "2020-11-21T18:30:56.939055Z"
    },
    "papermill": {
     "duration": 0.138295,
     "end_time": "2020-11-21T18:30:56.939867",
     "exception": false,
     "start_time": "2020-11-21T18:30:56.801572",
     "status": "completed"
    },
    "tags": []
   },
   "outputs": [],
   "source": [
    "split_cols = ['Product_Name', 'Product_ID', 'Number_of_Products']\n",
    "df[split_cols] = df[split_cols].astype('string')"
   ]
  },
  {
   "cell_type": "code",
   "execution_count": 10,
   "metadata": {
    "execution": {
     "iopub.execute_input": "2020-11-21T18:30:56.995468Z",
     "iopub.status.busy": "2020-11-21T18:30:56.994686Z",
     "iopub.status.idle": "2020-11-21T18:30:57.469607Z",
     "shell.execute_reply": "2020-11-21T18:30:57.468599Z"
    },
    "papermill": {
     "duration": 0.506861,
     "end_time": "2020-11-21T18:30:57.469770",
     "exception": false,
     "start_time": "2020-11-21T18:30:56.962909",
     "status": "completed"
    },
    "tags": []
   },
   "outputs": [],
   "source": [
    "df['Order_Id'] = df.index + 1\n",
    "df_split = df.apply(lambda x: x.str.split(',') if x.name in split_cols else x)"
   ]
  },
  {
   "cell_type": "code",
   "execution_count": 11,
   "metadata": {
    "execution": {
     "iopub.execute_input": "2020-11-21T18:30:57.538249Z",
     "iopub.status.busy": "2020-11-21T18:30:57.529733Z",
     "iopub.status.idle": "2020-11-21T18:30:57.617181Z",
     "shell.execute_reply": "2020-11-21T18:30:57.616375Z"
    },
    "papermill": {
     "duration": 0.1224,
     "end_time": "2020-11-21T18:30:57.617312",
     "exception": false,
     "start_time": "2020-11-21T18:30:57.494912",
     "status": "completed"
    },
    "tags": []
   },
   "outputs": [
    {
     "data": {
      "text/plain": [
       "16"
      ]
     },
     "execution_count": 11,
     "metadata": {},
     "output_type": "execute_result"
    }
   ],
   "source": [
    "len(np.where(df_split['Product_ID'].str.len() != df_split['Number_of_Products'].str.len())[0])"
   ]
  },
  {
   "cell_type": "code",
   "execution_count": 12,
   "metadata": {
    "execution": {
     "iopub.execute_input": "2020-11-21T18:30:57.678650Z",
     "iopub.status.busy": "2020-11-21T18:30:57.677759Z",
     "iopub.status.idle": "2020-11-21T18:30:57.758614Z",
     "shell.execute_reply": "2020-11-21T18:30:57.757716Z"
    },
    "papermill": {
     "duration": 0.116641,
     "end_time": "2020-11-21T18:30:57.758757",
     "exception": false,
     "start_time": "2020-11-21T18:30:57.642116",
     "status": "completed"
    },
    "tags": []
   },
   "outputs": [
    {
     "data": {
      "text/plain": [
       "275"
      ]
     },
     "execution_count": 12,
     "metadata": {},
     "output_type": "execute_result"
    }
   ],
   "source": [
    "len(np.where(df_split['Product_Name'].str.len() != df_split['Product_ID'].str.len())[0])"
   ]
  },
  {
   "cell_type": "code",
   "execution_count": 13,
   "metadata": {
    "execution": {
     "iopub.execute_input": "2020-11-21T18:30:57.828247Z",
     "iopub.status.busy": "2020-11-21T18:30:57.819871Z",
     "iopub.status.idle": "2020-11-21T18:30:57.892142Z",
     "shell.execute_reply": "2020-11-21T18:30:57.891547Z"
    },
    "papermill": {
     "duration": 0.108328,
     "end_time": "2020-11-21T18:30:57.892276",
     "exception": false,
     "start_time": "2020-11-21T18:30:57.783948",
     "status": "completed"
    },
    "tags": []
   },
   "outputs": [
    {
     "data": {
      "text/plain": [
       "275"
      ]
     },
     "execution_count": 13,
     "metadata": {},
     "output_type": "execute_result"
    }
   ],
   "source": [
    "len(np.where(df_split['Product_Name'].str.len() != df_split['Number_of_Products'].str.len())[0])"
   ]
  },
  {
   "cell_type": "code",
   "execution_count": 14,
   "metadata": {
    "execution": {
     "iopub.execute_input": "2020-11-21T18:30:57.954799Z",
     "iopub.status.busy": "2020-11-21T18:30:57.953720Z",
     "iopub.status.idle": "2020-11-21T18:30:57.957695Z",
     "shell.execute_reply": "2020-11-21T18:30:57.957036Z"
    },
    "papermill": {
     "duration": 0.040848,
     "end_time": "2020-11-21T18:30:57.957830",
     "exception": false,
     "start_time": "2020-11-21T18:30:57.916982",
     "status": "completed"
    },
    "tags": []
   },
   "outputs": [],
   "source": [
    "def fill_missing_splits(row):\n",
    "    num_pqs = len(row['Number_of_Products'])\n",
    "    num_pid = len(row['Product_ID'])\n",
    "    \n",
    "    if num_pqs > num_pid:\n",
    "        missing_val = ['missingPID' for i in range(num_pid,num_pqs)]\n",
    "        row['Product_ID'].extend(missing_val)\n",
    "        \n",
    "    elif num_pqs < num_pid:\n",
    "        missing_val = ['1' for i in range(num_pqs,num_pid)]\n",
    "        row['Number_of_Products'].extend(missing_val)\n",
    "        \n",
    "    num_pid = len(row['Product_ID'])\n",
    "    num_pns = len(row['Product_Name'])\n",
    "\n",
    "    if num_pns < num_pid:\n",
    "        missing_val = [row['Product_ID'][i] for i in range(num_pns,num_pid)]\n",
    "        row['Product_Name'].extend(missing_val)\n",
    "        \n",
    "    elif num_pns > num_pid:\n",
    "        row['Product_Name'] = row['Product_Name'][-num_pid:]\n",
    "    \n",
    "    return row"
   ]
  },
  {
   "cell_type": "code",
   "execution_count": 15,
   "metadata": {
    "execution": {
     "iopub.execute_input": "2020-11-21T18:30:58.029418Z",
     "iopub.status.busy": "2020-11-21T18:30:58.023874Z",
     "iopub.status.idle": "2020-11-21T18:31:04.647774Z",
     "shell.execute_reply": "2020-11-21T18:31:04.648367Z"
    },
    "papermill": {
     "duration": 6.665253,
     "end_time": "2020-11-21T18:31:04.648559",
     "exception": false,
     "start_time": "2020-11-21T18:30:57.983306",
     "status": "completed"
    },
    "tags": []
   },
   "outputs": [],
   "source": [
    "df_clean = df_split.apply(fill_missing_splits, axis = 1)"
   ]
  },
  {
   "cell_type": "code",
   "execution_count": 16,
   "metadata": {
    "execution": {
     "iopub.execute_input": "2020-11-21T18:31:04.715466Z",
     "iopub.status.busy": "2020-11-21T18:31:04.709634Z",
     "iopub.status.idle": "2020-11-21T18:31:04.799811Z",
     "shell.execute_reply": "2020-11-21T18:31:04.799197Z"
    },
    "papermill": {
     "duration": 0.126633,
     "end_time": "2020-11-21T18:31:04.799965",
     "exception": false,
     "start_time": "2020-11-21T18:31:04.673332",
     "status": "completed"
    },
    "tags": []
   },
   "outputs": [
    {
     "data": {
      "text/plain": [
       "0"
      ]
     },
     "execution_count": 16,
     "metadata": {},
     "output_type": "execute_result"
    }
   ],
   "source": [
    "len(np.where(df_clean['Product_ID'].str.len() != df_clean['Number_of_Products'].str.len())[0])"
   ]
  },
  {
   "cell_type": "code",
   "execution_count": 17,
   "metadata": {
    "execution": {
     "iopub.execute_input": "2020-11-21T18:31:04.870884Z",
     "iopub.status.busy": "2020-11-21T18:31:04.861879Z",
     "iopub.status.idle": "2020-11-21T18:31:04.940102Z",
     "shell.execute_reply": "2020-11-21T18:31:04.939308Z"
    },
    "papermill": {
     "duration": 0.114849,
     "end_time": "2020-11-21T18:31:04.940232",
     "exception": false,
     "start_time": "2020-11-21T18:31:04.825383",
     "status": "completed"
    },
    "tags": []
   },
   "outputs": [
    {
     "data": {
      "text/plain": [
       "0"
      ]
     },
     "execution_count": 17,
     "metadata": {},
     "output_type": "execute_result"
    }
   ],
   "source": [
    "len(np.where(df_clean['Product_Name'].str.len() != df_clean['Product_ID'].str.len())[0])"
   ]
  },
  {
   "cell_type": "code",
   "execution_count": 18,
   "metadata": {
    "execution": {
     "iopub.execute_input": "2020-11-21T18:31:05.004748Z",
     "iopub.status.busy": "2020-11-21T18:31:05.003584Z",
     "iopub.status.idle": "2020-11-21T18:31:05.073579Z",
     "shell.execute_reply": "2020-11-21T18:31:05.072750Z"
    },
    "papermill": {
     "duration": 0.107808,
     "end_time": "2020-11-21T18:31:05.073709",
     "exception": false,
     "start_time": "2020-11-21T18:31:04.965901",
     "status": "completed"
    },
    "tags": []
   },
   "outputs": [
    {
     "data": {
      "text/plain": [
       "0"
      ]
     },
     "execution_count": 18,
     "metadata": {},
     "output_type": "execute_result"
    }
   ],
   "source": [
    "len(np.where(df_clean['Product_Name'].str.len() != df_clean['Number_of_Products'].str.len())[0])"
   ]
  },
  {
   "cell_type": "code",
   "execution_count": 19,
   "metadata": {
    "execution": {
     "iopub.execute_input": "2020-11-21T18:31:05.134224Z",
     "iopub.status.busy": "2020-11-21T18:31:05.133398Z",
     "iopub.status.idle": "2020-11-21T18:31:05.253083Z",
     "shell.execute_reply": "2020-11-21T18:31:05.252268Z"
    },
    "papermill": {
     "duration": 0.153034,
     "end_time": "2020-11-21T18:31:05.253216",
     "exception": false,
     "start_time": "2020-11-21T18:31:05.100182",
     "status": "completed"
    },
    "tags": []
   },
   "outputs": [],
   "source": [
    "df_clean[split_cols] = df_clean[split_cols].applymap(lambda x: ','.join(x))"
   ]
  },
  {
   "cell_type": "code",
   "execution_count": 20,
   "metadata": {
    "execution": {
     "iopub.execute_input": "2020-11-21T18:31:05.325949Z",
     "iopub.status.busy": "2020-11-21T18:31:05.324962Z",
     "iopub.status.idle": "2020-11-21T18:31:05.328444Z",
     "shell.execute_reply": "2020-11-21T18:31:05.327533Z"
    },
    "papermill": {
     "duration": 0.044295,
     "end_time": "2020-11-21T18:31:05.328623",
     "exception": false,
     "start_time": "2020-11-21T18:31:05.284328",
     "status": "completed"
    },
    "tags": []
   },
   "outputs": [],
   "source": [
    "df_clean.rename(columns = {'user ID': 'user_ID'}, inplace = True)"
   ]
  },
  {
   "cell_type": "code",
   "execution_count": 21,
   "metadata": {
    "execution": {
     "iopub.execute_input": "2020-11-21T18:31:05.404362Z",
     "iopub.status.busy": "2020-11-21T18:31:05.403191Z",
     "iopub.status.idle": "2020-11-21T18:31:05.409076Z",
     "shell.execute_reply": "2020-11-21T18:31:05.408225Z"
    },
    "papermill": {
     "duration": 0.046928,
     "end_time": "2020-11-21T18:31:05.409217",
     "exception": false,
     "start_time": "2020-11-21T18:31:05.362289",
     "status": "completed"
    },
    "tags": []
   },
   "outputs": [
    {
     "data": {
      "text/plain": [
       "((49984, 16),\n",
       " Index(['timestamp', 'user_ID', 'ip_address', 'Product_Name', 'Product_ID',\n",
       "        'Is_First_Order', 'User_Gender', 'Payment_Type', 'Number_of_Products',\n",
       "        'Order_Coupon_Code', 'City', 'Country_Province', 'User_Birthday',\n",
       "        'Country', 'Revenue', 'Order_Id'],\n",
       "       dtype='object'))"
      ]
     },
     "execution_count": 21,
     "metadata": {},
     "output_type": "execute_result"
    }
   ],
   "source": [
    "df_clean.shape, df_clean.columns"
   ]
  },
  {
   "cell_type": "code",
   "execution_count": 22,
   "metadata": {
    "execution": {
     "iopub.execute_input": "2020-11-21T18:31:05.475010Z",
     "iopub.status.busy": "2020-11-21T18:31:05.474283Z",
     "iopub.status.idle": "2020-11-21T18:31:06.341419Z",
     "shell.execute_reply": "2020-11-21T18:31:06.340557Z"
    },
    "papermill": {
     "duration": 0.901742,
     "end_time": "2020-11-21T18:31:06.341556",
     "exception": false,
     "start_time": "2020-11-21T18:31:05.439814",
     "status": "completed"
    },
    "tags": []
   },
   "outputs": [],
   "source": [
    "df_clean.to_csv('FashionData_Clean.csv', index = False)"
   ]
  },
  {
   "cell_type": "code",
   "execution_count": null,
   "metadata": {
    "papermill": {
     "duration": 0.026849,
     "end_time": "2020-11-21T18:31:06.395693",
     "exception": false,
     "start_time": "2020-11-21T18:31:06.368844",
     "status": "completed"
    },
    "tags": []
   },
   "outputs": [],
   "source": []
  },
  {
   "cell_type": "code",
   "execution_count": null,
   "metadata": {
    "papermill": {
     "duration": 0.027792,
     "end_time": "2020-11-21T18:31:06.452859",
     "exception": false,
     "start_time": "2020-11-21T18:31:06.425067",
     "status": "completed"
    },
    "tags": []
   },
   "outputs": [],
   "source": []
  }
 ],
 "metadata": {
  "kernelspec": {
   "display_name": "Python 3",
   "language": "python",
   "name": "python3"
  },
  "language_info": {
   "codemirror_mode": {
    "name": "ipython",
    "version": 3
   },
   "file_extension": ".py",
   "mimetype": "text/x-python",
   "name": "python",
   "nbconvert_exporter": "python",
   "pygments_lexer": "ipython3",
   "version": "3.7.6"
  },
  "papermill": {
   "duration": 54.512707,
   "end_time": "2020-11-21T18:31:06.590821",
   "environment_variables": {},
   "exception": null,
   "input_path": "__notebook__.ipynb",
   "output_path": "__notebook__.ipynb",
   "parameters": {},
   "start_time": "2020-11-21T18:30:12.078114",
   "version": "2.1.0"
  }
 },
 "nbformat": 4,
 "nbformat_minor": 4
}
