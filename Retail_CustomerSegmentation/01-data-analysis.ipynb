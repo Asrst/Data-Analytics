{
 "cells": [
  {
   "cell_type": "code",
   "execution_count": 1,
   "metadata": {
    "execution": {
     "iopub.execute_input": "2020-11-22T13:32:16.281126Z",
     "iopub.status.busy": "2020-11-22T13:32:16.280302Z",
     "iopub.status.idle": "2020-11-22T13:32:17.392115Z",
     "shell.execute_reply": "2020-11-22T13:32:17.391197Z"
    },
    "papermill": {
     "duration": 1.148099,
     "end_time": "2020-11-22T13:32:17.392258",
     "exception": false,
     "start_time": "2020-11-22T13:32:16.244159",
     "status": "completed"
    },
    "tags": []
   },
   "outputs": [],
   "source": [
    "import os\n",
    "import numpy as np\n",
    "import pandas as pd\n",
    "import seaborn as sns\n",
    "import matplotlib.pyplot as plt\n",
    "sns.set(style=\"whitegrid\")"
   ]
  },
  {
   "cell_type": "code",
   "execution_count": 2,
   "metadata": {
    "execution": {
     "iopub.execute_input": "2020-11-22T13:32:17.456352Z",
     "iopub.status.busy": "2020-11-22T13:32:17.455186Z",
     "iopub.status.idle": "2020-11-22T13:32:17.457766Z",
     "shell.execute_reply": "2020-11-22T13:32:17.458306Z"
    },
    "papermill": {
     "duration": 0.036692,
     "end_time": "2020-11-22T13:32:17.458502",
     "exception": false,
     "start_time": "2020-11-22T13:32:17.421810",
     "status": "completed"
    },
    "tags": []
   },
   "outputs": [],
   "source": [
    "file_path = '../input/fashion-data-cleaning/FashionData_Clean.csv'"
   ]
  },
  {
   "cell_type": "code",
   "execution_count": 3,
   "metadata": {
    "execution": {
     "iopub.execute_input": "2020-11-22T13:32:17.527832Z",
     "iopub.status.busy": "2020-11-22T13:32:17.526951Z",
     "iopub.status.idle": "2020-11-22T13:32:17.887549Z",
     "shell.execute_reply": "2020-11-22T13:32:17.886714Z"
    },
    "papermill": {
     "duration": 0.399332,
     "end_time": "2020-11-22T13:32:17.887683",
     "exception": false,
     "start_time": "2020-11-22T13:32:17.488351",
     "status": "completed"
    },
    "tags": []
   },
   "outputs": [],
   "source": [
    "df  = pd.read_csv(file_path, \n",
    "                  na_values = ['null', 'undefined', ''],\n",
    "                 parse_dates = ['timestamp'])"
   ]
  },
  {
   "cell_type": "code",
   "execution_count": 4,
   "metadata": {
    "execution": {
     "iopub.execute_input": "2020-11-22T13:32:17.952910Z",
     "iopub.status.busy": "2020-11-22T13:32:17.951896Z",
     "iopub.status.idle": "2020-11-22T13:32:17.955882Z",
     "shell.execute_reply": "2020-11-22T13:32:17.956574Z"
    },
    "papermill": {
     "duration": 0.040273,
     "end_time": "2020-11-22T13:32:17.956733",
     "exception": false,
     "start_time": "2020-11-22T13:32:17.916460",
     "status": "completed"
    },
    "tags": []
   },
   "outputs": [
    {
     "name": "stdout",
     "output_type": "stream",
     "text": [
      "Dataset has 49984 rows & 16 columns\n",
      "Column Names: Index(['timestamp', 'user_ID', 'ip_address', 'Product_Name', 'Product_ID',\n",
      "       'Is_First_Order', 'User_Gender', 'Payment_Type', 'Number_of_Products',\n",
      "       'Order_Coupon_Code', 'City', 'Country_Province', 'User_Birthday',\n",
      "       'Country', 'Revenue', 'Order_Id'],\n",
      "      dtype='object')\n"
     ]
    }
   ],
   "source": [
    "print('Dataset has {} rows & {} columns'.format(*df.shape))\n",
    "print('Column Names:', df.columns)"
   ]
  },
  {
   "cell_type": "code",
   "execution_count": 5,
   "metadata": {
    "execution": {
     "iopub.execute_input": "2020-11-22T13:32:18.035916Z",
     "iopub.status.busy": "2020-11-22T13:32:18.029883Z",
     "iopub.status.idle": "2020-11-22T13:32:18.040529Z",
     "shell.execute_reply": "2020-11-22T13:32:18.039860Z"
    },
    "papermill": {
     "duration": 0.054381,
     "end_time": "2020-11-22T13:32:18.040656",
     "exception": false,
     "start_time": "2020-11-22T13:32:17.986275",
     "status": "completed"
    },
    "tags": []
   },
   "outputs": [
    {
     "data": {
      "text/plain": [
       "timestamp             datetime64[ns]\n",
       "user_ID                        int64\n",
       "ip_address                    object\n",
       "Product_Name                  object\n",
       "Product_ID                    object\n",
       "Is_First_Order               float64\n",
       "User_Gender                   object\n",
       "Payment_Type                  object\n",
       "Number_of_Products            object\n",
       "Order_Coupon_Code             object\n",
       "City                          object\n",
       "Country_Province              object\n",
       "User_Birthday                 object\n",
       "Country                       object\n",
       "Revenue                      float64\n",
       "Order_Id                       int64\n",
       "dtype: object"
      ]
     },
     "execution_count": 5,
     "metadata": {},
     "output_type": "execute_result"
    }
   ],
   "source": [
    "df.dtypes"
   ]
  },
  {
   "cell_type": "code",
   "execution_count": 6,
   "metadata": {
    "execution": {
     "iopub.execute_input": "2020-11-22T13:32:18.163305Z",
     "iopub.status.busy": "2020-11-22T13:32:18.106908Z",
     "iopub.status.idle": "2020-11-22T13:32:18.173504Z",
     "shell.execute_reply": "2020-11-22T13:32:18.172834Z"
    },
    "papermill": {
     "duration": 0.102504,
     "end_time": "2020-11-22T13:32:18.173645",
     "exception": false,
     "start_time": "2020-11-22T13:32:18.071141",
     "status": "completed"
    },
    "tags": []
   },
   "outputs": [
    {
     "data": {
      "text/plain": [
       "timestamp                 0\n",
       "user_ID                   0\n",
       "ip_address                0\n",
       "Product_Name              0\n",
       "Product_ID                0\n",
       "Is_First_Order            0\n",
       "User_Gender            1174\n",
       "Payment_Type              0\n",
       "Number_of_Products        0\n",
       "Order_Coupon_Code     38105\n",
       "City                    337\n",
       "Country_Province       4180\n",
       "User_Birthday         27275\n",
       "Country                   0\n",
       "Revenue                   0\n",
       "Order_Id                  0\n",
       "dtype: int64"
      ]
     },
     "execution_count": 6,
     "metadata": {},
     "output_type": "execute_result"
    }
   ],
   "source": [
    "df.isnull().sum()"
   ]
  },
  {
   "cell_type": "code",
   "execution_count": 7,
   "metadata": {
    "execution": {
     "iopub.execute_input": "2020-11-22T13:32:18.258246Z",
     "iopub.status.busy": "2020-11-22T13:32:18.257355Z",
     "iopub.status.idle": "2020-11-22T13:32:18.307364Z",
     "shell.execute_reply": "2020-11-22T13:32:18.306577Z"
    },
    "papermill": {
     "duration": 0.102344,
     "end_time": "2020-11-22T13:32:18.307528",
     "exception": false,
     "start_time": "2020-11-22T13:32:18.205184",
     "status": "completed"
    },
    "tags": []
   },
   "outputs": [],
   "source": [
    "df = df.dropna(subset = ['Product_Name', 'Product_ID', 'Revenue']).reset_index(drop = 1)"
   ]
  },
  {
   "cell_type": "code",
   "execution_count": 8,
   "metadata": {
    "execution": {
     "iopub.execute_input": "2020-11-22T13:32:18.432874Z",
     "iopub.status.busy": "2020-11-22T13:32:18.376370Z",
     "iopub.status.idle": "2020-11-22T13:32:18.466116Z",
     "shell.execute_reply": "2020-11-22T13:32:18.465366Z"
    },
    "papermill": {
     "duration": 0.127621,
     "end_time": "2020-11-22T13:32:18.466260",
     "exception": false,
     "start_time": "2020-11-22T13:32:18.338639",
     "status": "completed"
    },
    "tags": []
   },
   "outputs": [],
   "source": [
    "split_cols = ['Product_Name', 'Product_ID', 'Number_of_Products']\n",
    "df[split_cols] = df[split_cols].astype('string')"
   ]
  },
  {
   "cell_type": "markdown",
   "metadata": {
    "papermill": {
     "duration": 0.03073,
     "end_time": "2020-11-22T13:32:18.528091",
     "exception": false,
     "start_time": "2020-11-22T13:32:18.497361",
     "status": "completed"
    },
    "tags": []
   },
   "source": [
    "###"
   ]
  },
  {
   "cell_type": "code",
   "execution_count": 9,
   "metadata": {
    "execution": {
     "iopub.execute_input": "2020-11-22T13:32:18.597274Z",
     "iopub.status.busy": "2020-11-22T13:32:18.596315Z",
     "iopub.status.idle": "2020-11-22T13:32:18.602334Z",
     "shell.execute_reply": "2020-11-22T13:32:18.601692Z"
    },
    "papermill": {
     "duration": 0.043298,
     "end_time": "2020-11-22T13:32:18.602492",
     "exception": false,
     "start_time": "2020-11-22T13:32:18.559194",
     "status": "completed"
    },
    "tags": []
   },
   "outputs": [
    {
     "name": "stdout",
     "output_type": "stream",
     "text": [
      "start date: 2017-10-01 00:00:23 & end date: 2017-10-21 23:59:50\n",
      "Thats 21 days (3 weeks) of customer order/purchase data\n"
     ]
    }
   ],
   "source": [
    "print('start date:', df['timestamp'].min(), '& end date:', df['timestamp'].max())\n",
    "print('Thats 21 days (3 weeks) of customer order/purchase data')"
   ]
  },
  {
   "cell_type": "code",
   "execution_count": 10,
   "metadata": {
    "execution": {
     "iopub.execute_input": "2020-11-22T13:32:18.673644Z",
     "iopub.status.busy": "2020-11-22T13:32:18.672848Z",
     "iopub.status.idle": "2020-11-22T13:32:20.809829Z",
     "shell.execute_reply": "2020-11-22T13:32:20.809173Z"
    },
    "papermill": {
     "duration": 2.175835,
     "end_time": "2020-11-22T13:32:20.809965",
     "exception": false,
     "start_time": "2020-11-22T13:32:18.634130",
     "status": "completed"
    },
    "tags": []
   },
   "outputs": [
    {
     "name": "stdout",
     "output_type": "stream",
     "text": [
      "Total Revenue for 3 weeks: 6699843.72 AUD\n",
      "Total No.of Products sold (sales): 101332\n"
     ]
    }
   ],
   "source": [
    "# total revenue from the store\n",
    "print('Total Revenue for 3 weeks: {} AUD'.format(df['Revenue'].sum().round(2)))\n",
    "\n",
    "# total products sold\n",
    "num_sales = df['Number_of_Products'].str.split(',', expand = True).fillna('0').applymap(int).values.sum()\n",
    "print('Total No.of Products sold (sales):', num_sales)"
   ]
  },
  {
   "cell_type": "markdown",
   "metadata": {
    "papermill": {
     "duration": 0.032115,
     "end_time": "2020-11-22T13:32:20.874562",
     "exception": false,
     "start_time": "2020-11-22T13:32:20.842447",
     "status": "completed"
    },
    "tags": []
   },
   "source": [
    "### "
   ]
  },
  {
   "cell_type": "code",
   "execution_count": 11,
   "metadata": {
    "execution": {
     "iopub.execute_input": "2020-11-22T13:32:20.948175Z",
     "iopub.status.busy": "2020-11-22T13:32:20.947313Z",
     "iopub.status.idle": "2020-11-22T13:32:21.194801Z",
     "shell.execute_reply": "2020-11-22T13:32:21.193765Z"
    },
    "papermill": {
     "duration": 0.287941,
     "end_time": "2020-11-22T13:32:21.194978",
     "exception": false,
     "start_time": "2020-11-22T13:32:20.907037",
     "status": "completed"
    },
    "tags": []
   },
   "outputs": [
    {
     "name": "stdout",
     "output_type": "stream",
     "text": [
      "Revenue per order : 134.04 AUD , (Total valid orders = 49984)\n",
      "AVG unique products per order : 2.0\n"
     ]
    }
   ],
   "source": [
    "# AVG revenue per order\n",
    "revenue_per_order = (df['Revenue'].sum()/df['Product_ID'].count()).round(2)\n",
    "print('Revenue per order : {} AUD , (Total valid orders = {})'.format(revenue_per_order, \n",
    "                                                                      df['Product_ID'].count()))\n",
    "\n",
    "# unique products per order\n",
    "unique_products_per_order = df['Product_ID'].str.split(',').map(set).map(len).mean()\n",
    "print('AVG unique products per order : {}'.format(np.around(unique_products_per_order)))"
   ]
  },
  {
   "cell_type": "markdown",
   "metadata": {
    "papermill": {
     "duration": 0.03389,
     "end_time": "2020-11-22T13:32:21.263780",
     "exception": false,
     "start_time": "2020-11-22T13:32:21.229890",
     "status": "completed"
    },
    "tags": []
   },
   "source": [
    "### group by\n",
    "- Attributes - Time of Day, Day of Week, Geography, Payment Type.\n",
    "- Frequency - How many are single/multiple purchasers? What is the frequency of multi-purchase? Any\n",
    "typical attributes?"
   ]
  },
  {
   "cell_type": "code",
   "execution_count": 12,
   "metadata": {
    "execution": {
     "iopub.execute_input": "2020-11-22T13:32:21.338069Z",
     "iopub.status.busy": "2020-11-22T13:32:21.337058Z",
     "iopub.status.idle": "2020-11-22T13:32:21.340511Z",
     "shell.execute_reply": "2020-11-22T13:32:21.339776Z"
    },
    "papermill": {
     "duration": 0.043287,
     "end_time": "2020-11-22T13:32:21.340633",
     "exception": false,
     "start_time": "2020-11-22T13:32:21.297346",
     "status": "completed"
    },
    "tags": []
   },
   "outputs": [],
   "source": [
    "def split_and_count(df):\n",
    "    return df.str.split(',').map(len).sum()"
   ]
  },
  {
   "cell_type": "code",
   "execution_count": 13,
   "metadata": {
    "execution": {
     "iopub.execute_input": "2020-11-22T13:32:21.419557Z",
     "iopub.status.busy": "2020-11-22T13:32:21.418566Z",
     "iopub.status.idle": "2020-11-22T13:32:21.549679Z",
     "shell.execute_reply": "2020-11-22T13:32:21.549032Z"
    },
    "papermill": {
     "duration": 0.175553,
     "end_time": "2020-11-22T13:32:21.549818",
     "exception": false,
     "start_time": "2020-11-22T13:32:21.374265",
     "status": "completed"
    },
    "tags": []
   },
   "outputs": [
    {
     "data": {
      "text/html": [
       "<div>\n",
       "<style scoped>\n",
       "    .dataframe tbody tr th:only-of-type {\n",
       "        vertical-align: middle;\n",
       "    }\n",
       "\n",
       "    .dataframe tbody tr th {\n",
       "        vertical-align: top;\n",
       "    }\n",
       "\n",
       "    .dataframe thead th {\n",
       "        text-align: right;\n",
       "    }\n",
       "</style>\n",
       "<table border=\"1\" class=\"dataframe\">\n",
       "  <thead>\n",
       "    <tr style=\"text-align: right;\">\n",
       "      <th></th>\n",
       "      <th>weekofday</th>\n",
       "      <th>revenue</th>\n",
       "      <th>sales</th>\n",
       "    </tr>\n",
       "  </thead>\n",
       "  <tbody>\n",
       "    <tr>\n",
       "      <th>0</th>\n",
       "      <td>Monday</td>\n",
       "      <td>1030982.29</td>\n",
       "      <td>14327</td>\n",
       "    </tr>\n",
       "    <tr>\n",
       "      <th>1</th>\n",
       "      <td>Tuesday</td>\n",
       "      <td>1193035.83</td>\n",
       "      <td>17786</td>\n",
       "    </tr>\n",
       "    <tr>\n",
       "      <th>2</th>\n",
       "      <td>Wednesday</td>\n",
       "      <td>1268237.32</td>\n",
       "      <td>19709</td>\n",
       "    </tr>\n",
       "    <tr>\n",
       "      <th>3</th>\n",
       "      <td>Thursday</td>\n",
       "      <td>1085146.10</td>\n",
       "      <td>16276</td>\n",
       "    </tr>\n",
       "    <tr>\n",
       "      <th>4</th>\n",
       "      <td>Friday</td>\n",
       "      <td>706237.58</td>\n",
       "      <td>10673</td>\n",
       "    </tr>\n",
       "    <tr>\n",
       "      <th>5</th>\n",
       "      <td>Saturday</td>\n",
       "      <td>603407.08</td>\n",
       "      <td>8479</td>\n",
       "    </tr>\n",
       "    <tr>\n",
       "      <th>6</th>\n",
       "      <td>Sunday</td>\n",
       "      <td>812797.52</td>\n",
       "      <td>11436</td>\n",
       "    </tr>\n",
       "  </tbody>\n",
       "</table>\n",
       "</div>"
      ],
      "text/plain": [
       "   weekofday     revenue  sales\n",
       "0     Monday  1030982.29  14327\n",
       "1    Tuesday  1193035.83  17786\n",
       "2  Wednesday  1268237.32  19709\n",
       "3   Thursday  1085146.10  16276\n",
       "4     Friday   706237.58  10673\n",
       "5   Saturday   603407.08   8479\n",
       "6     Sunday   812797.52  11436"
      ]
     },
     "execution_count": 13,
     "metadata": {},
     "output_type": "execute_result"
    }
   ],
   "source": [
    "df['weekofday'] = df['timestamp'].dt.weekday\n",
    "stats_by_dayofweek = df.groupby('weekofday').agg(revenue = ('Revenue', 'sum'), \n",
    "                                                 sales = ('Product_ID', split_and_count)).reset_index()\n",
    "\n",
    "dayname_map = {0:'Monday',1:'Tuesday',2:'Wednesday',3:'Thursday',4:'Friday',5:'Saturday',6:'Sunday'}\n",
    "\n",
    "stats_by_dayofweek['weekofday'] = stats_by_dayofweek['weekofday'].replace(dayname_map)\n",
    "stats_by_dayofweek"
   ]
  },
  {
   "cell_type": "code",
   "execution_count": 14,
   "metadata": {
    "execution": {
     "iopub.execute_input": "2020-11-22T13:32:21.629295Z",
     "iopub.status.busy": "2020-11-22T13:32:21.628389Z",
     "iopub.status.idle": "2020-11-22T13:32:21.897469Z",
     "shell.execute_reply": "2020-11-22T13:32:21.896726Z"
    },
    "papermill": {
     "duration": 0.313279,
     "end_time": "2020-11-22T13:32:21.897593",
     "exception": false,
     "start_time": "2020-11-22T13:32:21.584314",
     "status": "completed"
    },
    "tags": []
   },
   "outputs": [
    {
     "data": {
      "text/plain": [
       "Text(0.5, 1.0, 'Revenue By Week of Day')"
      ]
     },
     "execution_count": 14,
     "metadata": {},
     "output_type": "execute_result"
    },
    {
     "data": {
      "image/png": "[encoded data removed]",
      "text/plain": [
       "<Figure size 432x288 with 1 Axes>"
      ]
     },
     "metadata": {},
     "output_type": "display_data"
    }
   ],
   "source": [
    "g = sns.lineplot(data=stats_by_dayofweek, x=\"weekofday\", y=\"revenue\",  sort=False)\n",
    "plt.xticks(rotation=30)\n",
    "plt.title('Revenue By Week of Day')"
   ]
  },
  {
   "cell_type": "code",
   "execution_count": 15,
   "metadata": {
    "execution": {
     "iopub.execute_input": "2020-11-22T13:32:21.979634Z",
     "iopub.status.busy": "2020-11-22T13:32:21.978603Z",
     "iopub.status.idle": "2020-11-22T13:32:22.422765Z",
     "shell.execute_reply": "2020-11-22T13:32:22.422019Z"
    },
    "papermill": {
     "duration": 0.488974,
     "end_time": "2020-11-22T13:32:22.422886",
     "exception": false,
     "start_time": "2020-11-22T13:32:21.933912",
     "status": "completed"
    },
    "tags": []
   },
   "outputs": [
    {
     "data": {
      "text/plain": [
       "Text(0.5, 1.0, 'Revenue By Hour of Day')"
      ]
     },
     "execution_count": 15,
     "metadata": {},
     "output_type": "execute_result"
    },
    {
     "data": {
      "image/png": "[encoded data removed]",
      "text/plain": [
       "<Figure size 432x288 with 1 Axes>"
      ]
     },
     "metadata": {},
     "output_type": "display_data"
    }
   ],
   "source": [
    "df['hourofday'] = df['timestamp'].dt.hour\n",
    "\n",
    "stats_by_hourofday = df.groupby('hourofday').agg(revenue = ('Revenue', 'sum'), \n",
    "                                                 sales = ('Product_ID', split_and_count)).reset_index()\n",
    "sns.lineplot(data=stats_by_hourofday, x=\"hourofday\", y=\"revenue\",  sort=False)\n",
    "plt.xticks(rotation=30)\n",
    "plt.title('Revenue By Hour of Day')"
   ]
  },
  {
   "cell_type": "code",
   "execution_count": 16,
   "metadata": {
    "execution": {
     "iopub.execute_input": "2020-11-22T13:32:22.527222Z",
     "iopub.status.busy": "2020-11-22T13:32:22.520057Z",
     "iopub.status.idle": "2020-11-22T13:32:26.498860Z",
     "shell.execute_reply": "2020-11-22T13:32:26.498195Z"
    },
    "papermill": {
     "duration": 4.037678,
     "end_time": "2020-11-22T13:32:26.498986",
     "exception": false,
     "start_time": "2020-11-22T13:32:22.461308",
     "status": "completed"
    },
    "tags": []
   },
   "outputs": [
    {
     "data": {
      "text/plain": [
       "Text(0.5, 1.0, 'TOP 10 Cities majorly contributing to Revenue')"
      ]
     },
     "execution_count": 16,
     "metadata": {},
     "output_type": "execute_result"
    },
    {
     "data": {
      "image/png": "[encoded data removed]",
      "text/plain": [
       "<Figure size 432x288 with 1 Axes>"
      ]
     },
     "metadata": {},
     "output_type": "display_data"
    }
   ],
   "source": [
    "stats_by_city = df.groupby('City').agg(revenue = ('Revenue', 'sum'), \n",
    "                                       sales = ('Product_ID', split_and_count)).reset_index()\n",
    "top10_cities = stats_by_city.sort_values(by = 'revenue', ascending = False).head(10)\n",
    "\n",
    "sns.barplot(x = 'City', y='revenue', data = top10_cities)\n",
    "plt.xticks(rotation=30)\n",
    "plt.title('TOP 10 Cities majorly contributing to Revenue')"
   ]
  },
  {
   "cell_type": "code",
   "execution_count": 17,
   "metadata": {
    "execution": {
     "iopub.execute_input": "2020-11-22T13:32:26.598972Z",
     "iopub.status.busy": "2020-11-22T13:32:26.598117Z",
     "iopub.status.idle": "2020-11-22T13:32:27.019936Z",
     "shell.execute_reply": "2020-11-22T13:32:27.019119Z"
    },
    "papermill": {
     "duration": 0.481047,
     "end_time": "2020-11-22T13:32:27.020061",
     "exception": false,
     "start_time": "2020-11-22T13:32:26.539014",
     "status": "completed"
    },
    "tags": []
   },
   "outputs": [
    {
     "data": {
      "text/plain": [
       "Text(0.5, 1.0, 'Revenue By Province')"
      ]
     },
     "execution_count": 17,
     "metadata": {},
     "output_type": "execute_result"
    },
    {
     "data": {
      "image/png": "[encoded data removed]",
      "text/plain": [
       "<Figure size 432x288 with 1 Axes>"
      ]
     },
     "metadata": {},
     "output_type": "display_data"
    }
   ],
   "source": [
    "stats_by_province = df.groupby('Country_Province').agg(revenue = ('Revenue', 'sum'), \n",
    "                                       sales = ('Product_ID', split_and_count)).reset_index()\n",
    "\n",
    "stats_by_province = stats_by_province.sort_values(by = 'revenue', ascending = False)\n",
    "\n",
    "sns.barplot(x = 'Country_Province', y='revenue', data = stats_by_province)\n",
    "plt.xticks(rotation=30)\n",
    "plt.title('Revenue By Province')"
   ]
  },
  {
   "cell_type": "code",
   "execution_count": 18,
   "metadata": {
    "execution": {
     "iopub.execute_input": "2020-11-22T13:32:27.120967Z",
     "iopub.status.busy": "2020-11-22T13:32:27.115257Z",
     "iopub.status.idle": "2020-11-22T13:32:27.485943Z",
     "shell.execute_reply": "2020-11-22T13:32:27.485271Z"
    },
    "papermill": {
     "duration": 0.424483,
     "end_time": "2020-11-22T13:32:27.486066",
     "exception": false,
     "start_time": "2020-11-22T13:32:27.061583",
     "status": "completed"
    },
    "tags": []
   },
   "outputs": [
    {
     "data": {
      "text/plain": [
       "Text(0.5, 1.0, 'Revenue By Payment Types')"
      ]
     },
     "execution_count": 18,
     "metadata": {},
     "output_type": "execute_result"
    },
    {
     "data": {
      "image/png": "[encoded data removed]",
      "text/plain": [
       "<Figure size 432x288 with 1 Axes>"
      ]
     },
     "metadata": {},
     "output_type": "display_data"
    }
   ],
   "source": [
    "stats_by_paymentype = df.groupby('Payment_Type').agg(revenue = ('Revenue', 'sum'), \n",
    "                                       sales = ('Product_ID', split_and_count)).reset_index()\n",
    "stats_by_paymentype = stats_by_paymentype.sort_values(by = 'revenue', ascending = False).head(3)\n",
    "sns.barplot(x = 'Payment_Type', y='revenue', data = stats_by_paymentype)\n",
    "plt.title('Revenue By Payment Types')"
   ]
  },
  {
   "cell_type": "code",
   "execution_count": 19,
   "metadata": {
    "execution": {
     "iopub.execute_input": "2020-11-22T13:32:27.586692Z",
     "iopub.status.busy": "2020-11-22T13:32:27.585530Z",
     "iopub.status.idle": "2020-11-22T13:32:27.613113Z",
     "shell.execute_reply": "2020-11-22T13:32:27.612137Z"
    },
    "papermill": {
     "duration": 0.083407,
     "end_time": "2020-11-22T13:32:27.613271",
     "exception": false,
     "start_time": "2020-11-22T13:32:27.529864",
     "status": "completed"
    },
    "tags": []
   },
   "outputs": [
    {
     "name": "stdout",
     "output_type": "stream",
     "text": [
      "users who only ordered once: 39778 -> 90.22%\n",
      "user with more than one order: 4311 -> 9.78%\n"
     ]
    }
   ],
   "source": [
    "user_order_counts = df.groupby(['user_ID']).agg(num_orders = ('user_ID', 'count')).reset_index()\n",
    "\n",
    "single_order_users = len(user_order_counts[user_order_counts['num_orders'] == 1])\n",
    "multiple_order_users = len(user_order_counts[user_order_counts['num_orders'] > 1])\n",
    "\n",
    "print('users who only ordered once: {} -> {:.2f}%'.format(single_order_users, \n",
    "                                                        single_order_users*100/len(user_order_counts)))\n",
    "print('user with more than one order: {} -> {:.2f}%'.format(multiple_order_users, \n",
    "                                                        multiple_order_users*100/len(user_order_counts)))"
   ]
  },
  {
   "cell_type": "code",
   "execution_count": 20,
   "metadata": {
    "execution": {
     "iopub.execute_input": "2020-11-22T13:32:27.708043Z",
     "iopub.status.busy": "2020-11-22T13:32:27.707186Z",
     "iopub.status.idle": "2020-11-22T13:32:27.811958Z",
     "shell.execute_reply": "2020-11-22T13:32:27.811145Z"
    },
    "papermill": {
     "duration": 0.154886,
     "end_time": "2020-11-22T13:32:27.812099",
     "exception": false,
     "start_time": "2020-11-22T13:32:27.657213",
     "status": "completed"
    },
    "tags": []
   },
   "outputs": [
    {
     "data": {
      "image/png": "[encoded data removed]",
      "text/plain": [
       "<Figure size 432x288 with 1 Axes>"
      ]
     },
     "metadata": {},
     "output_type": "display_data"
    }
   ],
   "source": [
    "users_df = pd.Series({'one':single_order_users, \n",
    "                       'more_than_one': multiple_order_users},\n",
    "                     name = 'Num of Orders by User')\n",
    "ax = users_df.plot(kind='pie', autopct='%1.f%%', startangle=90, legend = True)"
   ]
  },
  {
   "cell_type": "code",
   "execution_count": 21,
   "metadata": {
    "execution": {
     "iopub.execute_input": "2020-11-22T13:32:27.922038Z",
     "iopub.status.busy": "2020-11-22T13:32:27.916708Z",
     "iopub.status.idle": "2020-11-22T13:32:28.190955Z",
     "shell.execute_reply": "2020-11-22T13:32:28.190270Z"
    },
    "papermill": {
     "duration": 0.33415,
     "end_time": "2020-11-22T13:32:28.191096",
     "exception": false,
     "start_time": "2020-11-22T13:32:27.856946",
     "status": "completed"
    },
    "tags": []
   },
   "outputs": [
    {
     "name": "stdout",
     "output_type": "stream",
     "text": [
      "orders with only single item: 26284 -> 52.58%\n",
      "orders with more than one item: 23700 -> 47.42%\n"
     ]
    }
   ],
   "source": [
    "single_item_orders = len(df[df['Product_ID'].str.split(',').map(len) == 1])\n",
    "multiple_item_orders = len(df[df['Product_ID'].str.split(',').map(len) > 1])\n",
    "print('orders with only single item: {} -> {:.2f}%'.format(single_item_orders, \n",
    "                                                          single_item_orders*100/len(df)))\n",
    "print('orders with more than one item: {} -> {:.2f}%'.format(multiple_item_orders, \n",
    "                                                            multiple_item_orders*100/len(df)))"
   ]
  },
  {
   "cell_type": "code",
   "execution_count": 22,
   "metadata": {
    "execution": {
     "iopub.execute_input": "2020-11-22T13:32:28.301342Z",
     "iopub.status.busy": "2020-11-22T13:32:28.300546Z",
     "iopub.status.idle": "2020-11-22T13:32:28.380864Z",
     "shell.execute_reply": "2020-11-22T13:32:28.380220Z"
    },
    "papermill": {
     "duration": 0.144247,
     "end_time": "2020-11-22T13:32:28.381000",
     "exception": false,
     "start_time": "2020-11-22T13:32:28.236753",
     "status": "completed"
    },
    "tags": []
   },
   "outputs": [
    {
     "data": {
      "image/png": "[encoded data removed]",
      "text/plain": [
       "<Figure size 432x288 with 1 Axes>"
      ]
     },
     "metadata": {},
     "output_type": "display_data"
    }
   ],
   "source": [
    "orders_df = pd.Series({'one':single_item_orders, \n",
    "                       'more_than_one': multiple_item_orders},\n",
    "                     name = 'Num of Items in Order')\n",
    "ax = orders_df.plot(kind='pie', autopct='%1.f%%', startangle=30, legend = True)"
   ]
  },
  {
   "cell_type": "markdown",
   "metadata": {
    "papermill": {
     "duration": 0.046264,
     "end_time": "2020-11-22T13:32:28.474310",
     "exception": false,
     "start_time": "2020-11-22T13:32:28.428046",
     "status": "completed"
    },
    "tags": []
   },
   "source": [
    "### Product Affinity"
   ]
  },
  {
   "cell_type": "code",
   "execution_count": 23,
   "metadata": {
    "execution": {
     "iopub.execute_input": "2020-11-22T13:32:28.573079Z",
     "iopub.status.busy": "2020-11-22T13:32:28.572282Z",
     "iopub.status.idle": "2020-11-22T13:32:28.575330Z",
     "shell.execute_reply": "2020-11-22T13:32:28.574748Z"
    },
    "papermill": {
     "duration": 0.053843,
     "end_time": "2020-11-22T13:32:28.575473",
     "exception": false,
     "start_time": "2020-11-22T13:32:28.521630",
     "status": "completed"
    },
    "tags": []
   },
   "outputs": [],
   "source": [
    "# prod_id_names_map = {}\n",
    "# for pid_str, pns_str in zip(df['Product_ID'].tolist(), df['Product_Name'].tolist()):\n",
    "#     pids = pid_str.split(',')\n",
    "#     pns = pns_str.split(',')\n",
    "#     for pid, pn in zip(pids, pns):\n",
    "#         prod_id_names_map[pid] = pn\n",
    "        \n",
    "# len(prod_id_names_map)\n",
    "\n",
    "# THERE ARE MANY DUPLICATE PRODUCT NAMES (needs texts preprocessing) - can't relay on IDs."
   ]
  },
  {
   "cell_type": "code",
   "execution_count": 24,
   "metadata": {
    "execution": {
     "iopub.execute_input": "2020-11-22T13:32:28.677052Z",
     "iopub.status.busy": "2020-11-22T13:32:28.676240Z",
     "iopub.status.idle": "2020-11-22T13:32:28.745391Z",
     "shell.execute_reply": "2020-11-22T13:32:28.744708Z"
    },
    "papermill": {
     "duration": 0.123493,
     "end_time": "2020-11-22T13:32:28.745543",
     "exception": false,
     "start_time": "2020-11-22T13:32:28.622050",
     "status": "completed"
    },
    "tags": []
   },
   "outputs": [
    {
     "data": {
      "text/html": [
       "<div>\n",
       "<style scoped>\n",
       "    .dataframe tbody tr th:only-of-type {\n",
       "        vertical-align: middle;\n",
       "    }\n",
       "\n",
       "    .dataframe tbody tr th {\n",
       "        vertical-align: top;\n",
       "    }\n",
       "\n",
       "    .dataframe thead th {\n",
       "        text-align: right;\n",
       "    }\n",
       "</style>\n",
       "<table border=\"1\" class=\"dataframe\">\n",
       "  <thead>\n",
       "    <tr style=\"text-align: right;\">\n",
       "      <th></th>\n",
       "      <th>user_ID</th>\n",
       "      <th>Order_Id</th>\n",
       "      <th>Product_Name</th>\n",
       "    </tr>\n",
       "  </thead>\n",
       "  <tbody>\n",
       "    <tr>\n",
       "      <th>0</th>\n",
       "      <td>0</td>\n",
       "      <td>1</td>\n",
       "      <td>[Kendrick]</td>\n",
       "    </tr>\n",
       "    <tr>\n",
       "      <th>1</th>\n",
       "      <td>0</td>\n",
       "      <td>2</td>\n",
       "      <td>[Smartwatch Bradshaw Gold]</td>\n",
       "    </tr>\n",
       "    <tr>\n",
       "      <th>2</th>\n",
       "      <td>0</td>\n",
       "      <td>3</td>\n",
       "      <td>[Classic Slides]</td>\n",
       "    </tr>\n",
       "    <tr>\n",
       "      <th>3</th>\n",
       "      <td>0</td>\n",
       "      <td>4</td>\n",
       "      <td>[Bonaire Flared Sleeve Tunic]</td>\n",
       "    </tr>\n",
       "    <tr>\n",
       "      <th>4</th>\n",
       "      <td>0</td>\n",
       "      <td>5</td>\n",
       "      <td>[Tall Tales Man Style Pants]</td>\n",
       "    </tr>\n",
       "  </tbody>\n",
       "</table>\n",
       "</div>"
      ],
      "text/plain": [
       "   user_ID  Order_Id                   Product_Name\n",
       "0        0         1                     [Kendrick]\n",
       "1        0         2     [Smartwatch Bradshaw Gold]\n",
       "2        0         3               [Classic Slides]\n",
       "3        0         4  [Bonaire Flared Sleeve Tunic]\n",
       "4        0         5   [Tall Tales Man Style Pants]"
      ]
     },
     "execution_count": 24,
     "metadata": {},
     "output_type": "execute_result"
    }
   ],
   "source": [
    "df_affinity = df[['user_ID', 'Order_Id', 'Product_Name']].copy()\n",
    "df_affinity = df_affinity.apply(lambda x: x.str.split(',') if x.name in split_cols else x)\n",
    "df_affinity.head()"
   ]
  },
  {
   "cell_type": "code",
   "execution_count": 25,
   "metadata": {
    "execution": {
     "iopub.execute_input": "2020-11-22T13:32:28.965359Z",
     "iopub.status.busy": "2020-11-22T13:32:28.851397Z",
     "iopub.status.idle": "2020-11-22T13:32:29.278167Z",
     "shell.execute_reply": "2020-11-22T13:32:29.277355Z"
    },
    "papermill": {
     "duration": 0.484887,
     "end_time": "2020-11-22T13:32:29.278294",
     "exception": false,
     "start_time": "2020-11-22T13:32:28.793407",
     "status": "completed"
    },
    "tags": []
   },
   "outputs": [],
   "source": [
    "import re\n",
    "pattern = re.compile('[^a-zA-Z0-9\\s]+')\n",
    "\n",
    "def clean_product_names(list_str):\n",
    "    replaced_str = [pattern.sub(string = s, repl = ' ') for s in list_str]\n",
    "    return ['_'.join(s.lower().split(' ')) for s in replaced_str]\n",
    "\n",
    "\n",
    "df_affinity['Product_Name'] = df_affinity['Product_Name'] .apply(clean_product_names)"
   ]
  },
  {
   "cell_type": "code",
   "execution_count": 26,
   "metadata": {
    "execution": {
     "iopub.execute_input": "2020-11-22T13:32:29.396177Z",
     "iopub.status.busy": "2020-11-22T13:32:29.386028Z",
     "iopub.status.idle": "2020-11-22T13:32:29.432827Z",
     "shell.execute_reply": "2020-11-22T13:32:29.431901Z"
    },
    "papermill": {
     "duration": 0.106538,
     "end_time": "2020-11-22T13:32:29.432995",
     "exception": false,
     "start_time": "2020-11-22T13:32:29.326457",
     "status": "completed"
    },
    "tags": []
   },
   "outputs": [
    {
     "name": "stdout",
     "output_type": "stream",
     "text": [
      "No.of Orders with atleast 4 purchases: 5745\n"
     ]
    }
   ],
   "source": [
    "# there are over 20K unique products & 100K sales.\n",
    "# consider only order having atleast 3 purchases.\n",
    "# doing this to eliminate noise. otherwise it will be difficult get any good patterns.\n",
    "dfa_sample = df_affinity[df_affinity['Product_Name'].str.len() > 3]\n",
    "print('No.of Orders with atleast 4 purchases:', len(dfa_sample))"
   ]
  },
  {
   "cell_type": "code",
   "execution_count": 27,
   "metadata": {
    "execution": {
     "iopub.execute_input": "2020-11-22T13:32:29.537727Z",
     "iopub.status.busy": "2020-11-22T13:32:29.536850Z",
     "iopub.status.idle": "2020-11-22T13:32:29.542113Z",
     "shell.execute_reply": "2020-11-22T13:32:29.541318Z"
    },
    "papermill": {
     "duration": 0.060315,
     "end_time": "2020-11-22T13:32:29.542239",
     "exception": false,
     "start_time": "2020-11-22T13:32:29.481924",
     "status": "completed"
    },
    "tags": []
   },
   "outputs": [
    {
     "data": {
      "text/plain": [
       "5745"
      ]
     },
     "execution_count": 27,
     "metadata": {},
     "output_type": "execute_result"
    }
   ],
   "source": [
    "dfa_list = dfa_sample['Product_Name'].tolist()\n",
    "len(dfa_list)"
   ]
  },
  {
   "cell_type": "code",
   "execution_count": 28,
   "metadata": {
    "execution": {
     "iopub.execute_input": "2020-11-22T13:32:29.648102Z",
     "iopub.status.busy": "2020-11-22T13:32:29.647282Z",
     "iopub.status.idle": "2020-11-22T13:32:29.797860Z",
     "shell.execute_reply": "2020-11-22T13:32:29.797077Z"
    },
    "papermill": {
     "duration": 0.206629,
     "end_time": "2020-11-22T13:32:29.797985",
     "exception": false,
     "start_time": "2020-11-22T13:32:29.591356",
     "status": "completed"
    },
    "tags": []
   },
   "outputs": [
    {
     "data": {
      "text/plain": [
       "(5745, 11419)"
      ]
     },
     "execution_count": 28,
     "metadata": {},
     "output_type": "execute_result"
    }
   ],
   "source": [
    "from mlxtend.preprocessing import TransactionEncoder\n",
    "from mlxtend.frequent_patterns import apriori, fpmax, fpgrowth\n",
    "te = TransactionEncoder()\n",
    "te_ary = te.fit(dfa_list).transform(dfa_list)\n",
    "dfa = pd.DataFrame(te_ary, columns=te.columns_)\n",
    "dfa.shape"
   ]
  },
  {
   "cell_type": "code",
   "execution_count": 29,
   "metadata": {
    "execution": {
     "iopub.execute_input": "2020-11-22T13:32:29.927928Z",
     "iopub.status.busy": "2020-11-22T13:32:29.915280Z",
     "iopub.status.idle": "2020-11-22T13:32:30.233846Z",
     "shell.execute_reply": "2020-11-22T13:32:30.232804Z"
    },
    "papermill": {
     "duration": 0.384173,
     "end_time": "2020-11-22T13:32:30.234002",
     "exception": false,
     "start_time": "2020-11-22T13:32:29.849829",
     "status": "completed"
    },
    "tags": []
   },
   "outputs": [
    {
     "name": "stdout",
     "output_type": "stream",
     "text": [
      "(1129, 2)\n"
     ]
    },
    {
     "data": {
      "text/html": [
       "<div>\n",
       "<style scoped>\n",
       "    .dataframe tbody tr th:only-of-type {\n",
       "        vertical-align: middle;\n",
       "    }\n",
       "\n",
       "    .dataframe tbody tr th {\n",
       "        vertical-align: top;\n",
       "    }\n",
       "\n",
       "    .dataframe thead th {\n",
       "        text-align: right;\n",
       "    }\n",
       "</style>\n",
       "<table border=\"1\" class=\"dataframe\">\n",
       "  <thead>\n",
       "    <tr style=\"text-align: right;\">\n",
       "      <th></th>\n",
       "      <th>support</th>\n",
       "      <th>itemsets</th>\n",
       "    </tr>\n",
       "  </thead>\n",
       "  <tbody>\n",
       "    <tr>\n",
       "      <th>1124</th>\n",
       "      <td>0.001218</td>\n",
       "      <td>(havaianas_slim___women_s, havaianas_slim_logo...</td>\n",
       "    </tr>\n",
       "    <tr>\n",
       "      <th>1125</th>\n",
       "      <td>0.002089</td>\n",
       "      <td>(modern_cotton_thong, modern_cotton_bralette)</td>\n",
       "    </tr>\n",
       "    <tr>\n",
       "      <th>1126</th>\n",
       "      <td>0.001044</td>\n",
       "      <td>(staple_crew_tee, staple_shorts)</td>\n",
       "    </tr>\n",
       "    <tr>\n",
       "      <th>1127</th>\n",
       "      <td>0.001915</td>\n",
       "      <td>(dominica_high_waisted_briefs, belilze_balcone...</td>\n",
       "    </tr>\n",
       "    <tr>\n",
       "      <th>1128</th>\n",
       "      <td>0.001218</td>\n",
       "      <td>(maui_rib_bikini_briefs, maui_rib_top)</td>\n",
       "    </tr>\n",
       "  </tbody>\n",
       "</table>\n",
       "</div>"
      ],
      "text/plain": [
       "       support                                           itemsets\n",
       "1124  0.001218  (havaianas_slim___women_s, havaianas_slim_logo...\n",
       "1125  0.002089      (modern_cotton_thong, modern_cotton_bralette)\n",
       "1126  0.001044                   (staple_crew_tee, staple_shorts)\n",
       "1127  0.001915  (dominica_high_waisted_briefs, belilze_balcone...\n",
       "1128  0.001218             (maui_rib_bikini_briefs, maui_rib_top)"
      ]
     },
     "execution_count": 29,
     "metadata": {},
     "output_type": "execute_result"
    }
   ],
   "source": [
    "# frequent_itemsets = apriori(dfa, min_support=0.001, use_colnames=True)\n",
    "# frequent_itemsets = fpmax(dfa, min_support=0.01, use_colnames=True)\n",
    "frequent_itemsets = fpgrowth(dfa, min_support=0.001, use_colnames=True)\n",
    "print(frequent_itemsets.shape)\n",
    "frequent_itemsets.tail()"
   ]
  },
  {
   "cell_type": "code",
   "execution_count": 30,
   "metadata": {
    "execution": {
     "iopub.execute_input": "2020-11-22T13:32:30.350387Z",
     "iopub.status.busy": "2020-11-22T13:32:30.349416Z",
     "iopub.status.idle": "2020-11-22T13:32:30.353633Z",
     "shell.execute_reply": "2020-11-22T13:32:30.354213Z"
    },
    "papermill": {
     "duration": 0.068697,
     "end_time": "2020-11-22T13:32:30.354361",
     "exception": false,
     "start_time": "2020-11-22T13:32:30.285664",
     "status": "completed"
    },
    "tags": []
   },
   "outputs": [
    {
     "data": {
      "text/plain": [
       "(17, 9)"
      ]
     },
     "execution_count": 30,
     "metadata": {},
     "output_type": "execute_result"
    }
   ],
   "source": [
    "from mlxtend.frequent_patterns import association_rules\n",
    "asr_df = association_rules(frequent_itemsets, metric=\"confidence\", min_threshold=0.25)\n",
    "asr_df.shape"
   ]
  },
  {
   "cell_type": "code",
   "execution_count": 31,
   "metadata": {
    "execution": {
     "iopub.execute_input": "2020-11-22T13:32:30.464503Z",
     "iopub.status.busy": "2020-11-22T13:32:30.463726Z",
     "iopub.status.idle": "2020-11-22T13:32:30.467112Z",
     "shell.execute_reply": "2020-11-22T13:32:30.466361Z"
    },
    "papermill": {
     "duration": 0.061176,
     "end_time": "2020-11-22T13:32:30.467235",
     "exception": false,
     "start_time": "2020-11-22T13:32:30.406059",
     "status": "completed"
    },
    "tags": []
   },
   "outputs": [],
   "source": [
    "asr_df.sort_values(by=  'confidence', ascending =False, inplace = True)\n",
    "# asr_df[['antecedents', 'consequents']]"
   ]
  },
  {
   "cell_type": "code",
   "execution_count": 32,
   "metadata": {
    "execution": {
     "iopub.execute_input": "2020-11-22T13:32:30.578087Z",
     "iopub.status.busy": "2020-11-22T13:32:30.577290Z",
     "iopub.status.idle": "2020-11-22T13:32:30.580748Z",
     "shell.execute_reply": "2020-11-22T13:32:30.580095Z"
    },
    "papermill": {
     "duration": 0.061866,
     "end_time": "2020-11-22T13:32:30.580876",
     "exception": false,
     "start_time": "2020-11-22T13:32:30.519010",
     "status": "completed"
    },
    "tags": []
   },
   "outputs": [],
   "source": [
    "affine_prods = set()\n",
    "for a, c in zip(asr_df['antecedents'].tolist(), asr_df['consequents'].tolist()):\n",
    "    affine_prods.add(a.union(c))"
   ]
  },
  {
   "cell_type": "code",
   "execution_count": 33,
   "metadata": {
    "execution": {
     "iopub.execute_input": "2020-11-22T13:32:30.698005Z",
     "iopub.status.busy": "2020-11-22T13:32:30.697024Z",
     "iopub.status.idle": "2020-11-22T13:32:30.702829Z",
     "shell.execute_reply": "2020-11-22T13:32:30.702198Z"
    },
    "papermill": {
     "duration": 0.070118,
     "end_time": "2020-11-22T13:32:30.702967",
     "exception": false,
     "start_time": "2020-11-22T13:32:30.632849",
     "status": "completed"
    },
    "tags": []
   },
   "outputs": [
    {
     "data": {
      "text/html": [
       "<div>\n",
       "<style scoped>\n",
       "    .dataframe tbody tr th:only-of-type {\n",
       "        vertical-align: middle;\n",
       "    }\n",
       "\n",
       "    .dataframe tbody tr th {\n",
       "        vertical-align: top;\n",
       "    }\n",
       "\n",
       "    .dataframe thead th {\n",
       "        text-align: right;\n",
       "    }\n",
       "</style>\n",
       "<table border=\"1\" class=\"dataframe\">\n",
       "  <thead>\n",
       "    <tr style=\"text-align: right;\">\n",
       "      <th></th>\n",
       "      <th>0</th>\n",
       "      <th>1</th>\n",
       "    </tr>\n",
       "  </thead>\n",
       "  <tbody>\n",
       "    <tr>\n",
       "      <th>0</th>\n",
       "      <td>customised_stretch_bralette</td>\n",
       "      <td>bikini</td>\n",
       "    </tr>\n",
       "    <tr>\n",
       "      <th>1</th>\n",
       "      <td>modern_cotton_bikini_briefs</td>\n",
       "      <td>modern_cotton_bralette</td>\n",
       "    </tr>\n",
       "    <tr>\n",
       "      <th>2</th>\n",
       "      <td>modern_cotton_thong</td>\n",
       "      <td>modern_cotton_bralette</td>\n",
       "    </tr>\n",
       "    <tr>\n",
       "      <th>3</th>\n",
       "      <td>havaianas_slim___women_s</td>\n",
       "      <td>havaianas_slim_logo_pop_up___women_s</td>\n",
       "    </tr>\n",
       "    <tr>\n",
       "      <th>4</th>\n",
       "      <td>basic_3_4_tights</td>\n",
       "      <td>essentials_linear_slim_tank</td>\n",
       "    </tr>\n",
       "    <tr>\n",
       "      <th>5</th>\n",
       "      <td>hayman_shorts</td>\n",
       "      <td>staple_shorts</td>\n",
       "    </tr>\n",
       "    <tr>\n",
       "      <th>6</th>\n",
       "      <td>vapor_cotton_tee</td>\n",
       "      <td>champion_jersey_shorts</td>\n",
       "    </tr>\n",
       "    <tr>\n",
       "      <th>7</th>\n",
       "      <td>belilze_balconette_bikini_top</td>\n",
       "      <td>dominica_high_waisted_briefs</td>\n",
       "    </tr>\n",
       "    <tr>\n",
       "      <th>8</th>\n",
       "      <td>good_vibes_tee</td>\n",
       "      <td>world_tee</td>\n",
       "    </tr>\n",
       "    <tr>\n",
       "      <th>9</th>\n",
       "      <td>heritage_tights</td>\n",
       "      <td>heritage_classic_tee___unisex</td>\n",
       "    </tr>\n",
       "    <tr>\n",
       "      <th>10</th>\n",
       "      <td>crew_neck_t_shirt</td>\n",
       "      <td>t_shirt</td>\n",
       "    </tr>\n",
       "    <tr>\n",
       "      <th>11</th>\n",
       "      <td>maui_rib_bikini_briefs</td>\n",
       "      <td>maui_rib_top</td>\n",
       "    </tr>\n",
       "  </tbody>\n",
       "</table>\n",
       "</div>"
      ],
      "text/plain": [
       "                                0                                     1\n",
       "0     customised_stretch_bralette                                bikini\n",
       "1     modern_cotton_bikini_briefs                modern_cotton_bralette\n",
       "2             modern_cotton_thong                modern_cotton_bralette\n",
       "3        havaianas_slim___women_s  havaianas_slim_logo_pop_up___women_s\n",
       "4                basic_3_4_tights           essentials_linear_slim_tank\n",
       "5                   hayman_shorts                         staple_shorts\n",
       "6                vapor_cotton_tee                champion_jersey_shorts\n",
       "7   belilze_balconette_bikini_top          dominica_high_waisted_briefs\n",
       "8                  good_vibes_tee                             world_tee\n",
       "9                 heritage_tights         heritage_classic_tee___unisex\n",
       "10              crew_neck_t_shirt                               t_shirt\n",
       "11         maui_rib_bikini_briefs                          maui_rib_top"
      ]
     },
     "execution_count": 33,
     "metadata": {},
     "output_type": "execute_result"
    }
   ],
   "source": [
    "pd.DataFrame([list(fs) for fs in list(affine_prods)])"
   ]
  },
  {
   "cell_type": "code",
   "execution_count": null,
   "metadata": {
    "papermill": {
     "duration": 0.053058,
     "end_time": "2020-11-22T13:32:30.809386",
     "exception": false,
     "start_time": "2020-11-22T13:32:30.756328",
     "status": "completed"
    },
    "tags": []
   },
   "outputs": [],
   "source": []
  }
 ],
 "metadata": {
  "kernelspec": {
   "display_name": "Python 3",
   "language": "python",
   "name": "python3"
  },
  "language_info": {
   "codemirror_mode": {
    "name": "ipython",
    "version": 3
   },
   "file_extension": ".py",
   "mimetype": "text/x-python",
   "name": "python",
   "nbconvert_exporter": "python",
   "pygments_lexer": "ipython3",
   "version": "3.7.6"
  },
  "papermill": {
   "duration": 19.910425,
   "end_time": "2020-11-22T13:32:30.969680",
   "environment_variables": {},
   "exception": null,
   "input_path": "__notebook__.ipynb",
   "output_path": "__notebook__.ipynb",
   "parameters": {},
   "start_time": "2020-11-22T13:32:11.059255",
   "version": "2.1.0"
  }
 },
 "nbformat": 4,
 "nbformat_minor": 4
}
