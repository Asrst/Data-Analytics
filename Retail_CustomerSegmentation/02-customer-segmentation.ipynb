{
 "cells": [
  {
   "cell_type": "code",
   "execution_count": 1,
   "metadata": {
    "_cell_guid": "b1076dfc-b9ad-4769-8c92-a6c4dae69d19",
    "_uuid": "8f2839f25d086af736a60e9eeb907d3b93b6e0e5",
    "execution": {
     "iopub.execute_input": "2020-11-22T13:59:59.539124Z",
     "iopub.status.busy": "2020-11-22T13:59:59.538121Z",
     "iopub.status.idle": "2020-11-22T14:00:01.108085Z",
     "shell.execute_reply": "2020-11-22T14:00:01.107128Z"
    },
    "papermill": {
     "duration": 1.605148,
     "end_time": "2020-11-22T14:00:01.108249",
     "exception": false,
     "start_time": "2020-11-22T13:59:59.503101",
     "status": "completed"
    },
    "tags": []
   },
   "outputs": [],
   "source": [
    "import os\n",
    "import numpy as np\n",
    "import pandas as pd\n",
    "from sklearn.cluster import KMeans\n",
    "import matplotlib.pyplot as plt\n",
    "import seaborn as sns\n",
    "sns.set(style=\"whitegrid\")"
   ]
  },
  {
   "cell_type": "markdown",
   "metadata": {
    "papermill": {
     "duration": 0.023755,
     "end_time": "2020-11-22T14:00:01.156790",
     "exception": false,
     "start_time": "2020-11-22T14:00:01.133035",
     "status": "completed"
    },
    "tags": []
   },
   "source": [
    "- fashion data cleaning/preprocessing: refer this [notebook](https://www.kaggle.com/asrsaiteja/fashion-data-cleaning)"
   ]
  },
  {
   "cell_type": "code",
   "execution_count": 2,
   "metadata": {
    "_cell_guid": "79c7e3d0-c299-4dcb-8224-4455121ee9b0",
    "_uuid": "d629ff2d2480ee46fbb7e2d37f6b5fab8052498a",
    "execution": {
     "iopub.execute_input": "2020-11-22T14:00:01.210264Z",
     "iopub.status.busy": "2020-11-22T14:00:01.209284Z",
     "iopub.status.idle": "2020-11-22T14:00:01.212698Z",
     "shell.execute_reply": "2020-11-22T14:00:01.212072Z"
    },
    "papermill": {
     "duration": 0.032295,
     "end_time": "2020-11-22T14:00:01.212834",
     "exception": false,
     "start_time": "2020-11-22T14:00:01.180539",
     "status": "completed"
    },
    "tags": []
   },
   "outputs": [],
   "source": [
    "file_path = '../input/fashion-data-cleaning/FashionData_Clean.csv'"
   ]
  },
  {
   "cell_type": "code",
   "execution_count": 3,
   "metadata": {
    "execution": {
     "iopub.execute_input": "2020-11-22T14:00:01.270408Z",
     "iopub.status.busy": "2020-11-22T14:00:01.269606Z",
     "iopub.status.idle": "2020-11-22T14:00:01.633088Z",
     "shell.execute_reply": "2020-11-22T14:00:01.632241Z"
    },
    "papermill": {
     "duration": 0.396458,
     "end_time": "2020-11-22T14:00:01.633225",
     "exception": false,
     "start_time": "2020-11-22T14:00:01.236767",
     "status": "completed"
    },
    "tags": []
   },
   "outputs": [],
   "source": [
    "df  = pd.read_csv(file_path, \n",
    "                  na_values = ['null', 'undefined', ''],\n",
    "                 parse_dates = ['timestamp'])"
   ]
  },
  {
   "cell_type": "code",
   "execution_count": 4,
   "metadata": {
    "execution": {
     "iopub.execute_input": "2020-11-22T14:00:01.689400Z",
     "iopub.status.busy": "2020-11-22T14:00:01.688446Z",
     "iopub.status.idle": "2020-11-22T14:00:01.692359Z",
     "shell.execute_reply": "2020-11-22T14:00:01.692973Z"
    },
    "papermill": {
     "duration": 0.035523,
     "end_time": "2020-11-22T14:00:01.693128",
     "exception": false,
     "start_time": "2020-11-22T14:00:01.657605",
     "status": "completed"
    },
    "tags": []
   },
   "outputs": [
    {
     "name": "stdout",
     "output_type": "stream",
     "text": [
      "Dataset has 49984 rows & 16 columns\n",
      "Column Names: Index(['timestamp', 'user_ID', 'ip_address', 'Product_Name', 'Product_ID',\n",
      "       'Is_First_Order', 'User_Gender', 'Payment_Type', 'Number_of_Products',\n",
      "       'Order_Coupon_Code', 'City', 'Country_Province', 'User_Birthday',\n",
      "       'Country', 'Revenue', 'Order_Id'],\n",
      "      dtype='object')\n"
     ]
    }
   ],
   "source": [
    "print('Dataset has {} rows & {} columns'.format(*df.shape))\n",
    "print('Column Names:', df.columns)"
   ]
  },
  {
   "cell_type": "code",
   "execution_count": 5,
   "metadata": {
    "execution": {
     "iopub.execute_input": "2020-11-22T14:00:01.769405Z",
     "iopub.status.busy": "2020-11-22T14:00:01.753797Z",
     "iopub.status.idle": "2020-11-22T14:00:01.824322Z",
     "shell.execute_reply": "2020-11-22T14:00:01.823442Z"
    },
    "papermill": {
     "duration": 0.106367,
     "end_time": "2020-11-22T14:00:01.824456",
     "exception": false,
     "start_time": "2020-11-22T14:00:01.718089",
     "status": "completed"
    },
    "tags": []
   },
   "outputs": [],
   "source": [
    "df = df.dropna(subset = ['Product_Name', 'Product_ID', 'Revenue']).reset_index(drop = 1)"
   ]
  },
  {
   "cell_type": "code",
   "execution_count": 6,
   "metadata": {
    "execution": {
     "iopub.execute_input": "2020-11-22T14:00:01.882079Z",
     "iopub.status.busy": "2020-11-22T14:00:01.881050Z",
     "iopub.status.idle": "2020-11-22T14:00:01.886959Z",
     "shell.execute_reply": "2020-11-22T14:00:01.886122Z"
    },
    "papermill": {
     "duration": 0.037687,
     "end_time": "2020-11-22T14:00:01.887107",
     "exception": false,
     "start_time": "2020-11-22T14:00:01.849420",
     "status": "completed"
    },
    "tags": []
   },
   "outputs": [
    {
     "name": "stdout",
     "output_type": "stream",
     "text": [
      "start date: 2017-10-01 00:00:23 & end date: 2017-10-21 23:59:50\n",
      "Thats 21 days (3 weeks) of customer order/purchase data\n"
     ]
    }
   ],
   "source": [
    "print('start date:', df['timestamp'].min(), '& end date:', df['timestamp'].max())\n",
    "print('Thats 21 days (3 weeks) of customer order/purchase data')"
   ]
  },
  {
   "cell_type": "code",
   "execution_count": 7,
   "metadata": {
    "execution": {
     "iopub.execute_input": "2020-11-22T14:00:01.945962Z",
     "iopub.status.busy": "2020-11-22T14:00:01.945145Z",
     "iopub.status.idle": "2020-11-22T14:00:01.997693Z",
     "shell.execute_reply": "2020-11-22T14:00:01.996949Z"
    },
    "papermill": {
     "duration": 0.08491,
     "end_time": "2020-11-22T14:00:01.997846",
     "exception": false,
     "start_time": "2020-11-22T14:00:01.912936",
     "status": "completed"
    },
    "tags": []
   },
   "outputs": [],
   "source": [
    "import datetime\n",
    "\n",
    "seg_df = df.copy()\n",
    "seg_df[\"timestamp\"] = seg_df[\"timestamp\"].dt.date\n",
    "current_date = max(seg_df.timestamp) + datetime.timedelta(days=1)"
   ]
  },
  {
   "cell_type": "code",
   "execution_count": 8,
   "metadata": {
    "execution": {
     "iopub.execute_input": "2020-11-22T14:00:02.060268Z",
     "iopub.status.busy": "2020-11-22T14:00:02.059278Z",
     "iopub.status.idle": "2020-11-22T14:00:02.064324Z",
     "shell.execute_reply": "2020-11-22T14:00:02.063695Z"
    },
    "papermill": {
     "duration": 0.039086,
     "end_time": "2020-11-22T14:00:02.064469",
     "exception": false,
     "start_time": "2020-11-22T14:00:02.025383",
     "status": "completed"
    },
    "tags": []
   },
   "outputs": [
    {
     "data": {
      "text/plain": [
       "((49984, 16),\n",
       " Index(['timestamp', 'user_ID', 'ip_address', 'Product_Name', 'Product_ID',\n",
       "        'Is_First_Order', 'User_Gender', 'Payment_Type', 'Number_of_Products',\n",
       "        'Order_Coupon_Code', 'City', 'Country_Province', 'User_Birthday',\n",
       "        'Country', 'Revenue', 'Order_Id'],\n",
       "       dtype='object'))"
      ]
     },
     "execution_count": 8,
     "metadata": {},
     "output_type": "execute_result"
    }
   ],
   "source": [
    "seg_df.shape, seg_df.columns"
   ]
  },
  {
   "cell_type": "markdown",
   "metadata": {
    "papermill": {
     "duration": 0.03201,
     "end_time": "2020-11-22T14:00:02.132145",
     "exception": false,
     "start_time": "2020-11-22T14:00:02.100135",
     "status": "completed"
    },
    "tags": []
   },
   "source": [
    "- Recently: How recently user palced order (lower is better).\n",
    "- Frequency: How frequently user placed orders (higher is better).\n",
    "- Revenue: How much did user spend on his orders (higher is better)."
   ]
  },
  {
   "cell_type": "code",
   "execution_count": 9,
   "metadata": {
    "execution": {
     "iopub.execute_input": "2020-11-22T14:00:02.214035Z",
     "iopub.status.busy": "2020-11-22T14:00:02.212669Z",
     "iopub.status.idle": "2020-11-22T14:00:07.940077Z",
     "shell.execute_reply": "2020-11-22T14:00:07.939319Z"
    },
    "papermill": {
     "duration": 5.772538,
     "end_time": "2020-11-22T14:00:07.940212",
     "exception": false,
     "start_time": "2020-11-22T14:00:02.167674",
     "status": "completed"
    },
    "tags": []
   },
   "outputs": [],
   "source": [
    "# Aggregate data by each customer\n",
    "seg_df = seg_df.groupby(['user_ID']).agg({\n",
    "    'timestamp': lambda x: (current_date - x.max()).days, # recency\n",
    "    'user_ID': 'count', # frequency\n",
    "    'Revenue': 'sum'}) # monetary value"
   ]
  },
  {
   "cell_type": "code",
   "execution_count": 10,
   "metadata": {
    "execution": {
     "iopub.execute_input": "2020-11-22T14:00:08.004304Z",
     "iopub.status.busy": "2020-11-22T14:00:08.003490Z",
     "iopub.status.idle": "2020-11-22T14:00:08.013904Z",
     "shell.execute_reply": "2020-11-22T14:00:08.013101Z"
    },
    "papermill": {
     "duration": 0.046084,
     "end_time": "2020-11-22T14:00:08.014038",
     "exception": false,
     "start_time": "2020-11-22T14:00:07.967954",
     "status": "completed"
    },
    "tags": []
   },
   "outputs": [
    {
     "data": {
      "text/html": [
       "<div>\n",
       "<style scoped>\n",
       "    .dataframe tbody tr th:only-of-type {\n",
       "        vertical-align: middle;\n",
       "    }\n",
       "\n",
       "    .dataframe tbody tr th {\n",
       "        vertical-align: top;\n",
       "    }\n",
       "\n",
       "    .dataframe thead th {\n",
       "        text-align: right;\n",
       "    }\n",
       "</style>\n",
       "<table border=\"1\" class=\"dataframe\">\n",
       "  <thead>\n",
       "    <tr style=\"text-align: right;\">\n",
       "      <th></th>\n",
       "      <th>timestamp</th>\n",
       "      <th>user_ID</th>\n",
       "      <th>Revenue</th>\n",
       "    </tr>\n",
       "    <tr>\n",
       "      <th>user_ID</th>\n",
       "      <th></th>\n",
       "      <th></th>\n",
       "      <th></th>\n",
       "    </tr>\n",
       "  </thead>\n",
       "  <tbody>\n",
       "    <tr>\n",
       "      <th>0</th>\n",
       "      <td>1</td>\n",
       "      <td>121</td>\n",
       "      <td>18463.44</td>\n",
       "    </tr>\n",
       "    <tr>\n",
       "      <th>1</th>\n",
       "      <td>19</td>\n",
       "      <td>1</td>\n",
       "      <td>113.55</td>\n",
       "    </tr>\n",
       "    <tr>\n",
       "      <th>2</th>\n",
       "      <td>8</td>\n",
       "      <td>1</td>\n",
       "      <td>81.78</td>\n",
       "    </tr>\n",
       "    <tr>\n",
       "      <th>3</th>\n",
       "      <td>18</td>\n",
       "      <td>1</td>\n",
       "      <td>63.63</td>\n",
       "    </tr>\n",
       "    <tr>\n",
       "      <th>4</th>\n",
       "      <td>14</td>\n",
       "      <td>1</td>\n",
       "      <td>81.77</td>\n",
       "    </tr>\n",
       "  </tbody>\n",
       "</table>\n",
       "</div>"
      ],
      "text/plain": [
       "         timestamp  user_ID   Revenue\n",
       "user_ID                              \n",
       "0                1      121  18463.44\n",
       "1               19        1    113.55\n",
       "2                8        1     81.78\n",
       "3               18        1     63.63\n",
       "4               14        1     81.77"
      ]
     },
     "execution_count": 10,
     "metadata": {},
     "output_type": "execute_result"
    }
   ],
   "source": [
    "seg_df.head()"
   ]
  },
  {
   "cell_type": "code",
   "execution_count": 11,
   "metadata": {
    "execution": {
     "iopub.execute_input": "2020-11-22T14:00:08.079529Z",
     "iopub.status.busy": "2020-11-22T14:00:08.078004Z",
     "iopub.status.idle": "2020-11-22T14:00:08.083706Z",
     "shell.execute_reply": "2020-11-22T14:00:08.082986Z"
    },
    "papermill": {
     "duration": 0.042549,
     "end_time": "2020-11-22T14:00:08.083850",
     "exception": false,
     "start_time": "2020-11-22T14:00:08.041301",
     "status": "completed"
    },
    "tags": []
   },
   "outputs": [],
   "source": [
    "seg_df_index = seg_df.index\n",
    "seg_df.reset_index(drop = True, inplace = True)\n",
    "seg_df.rename(columns = {'timestamp': 'Recency',\n",
    "                         'user_ID': 'Frequency','Revenue': 'MonetaryValue'}, inplace=True)\n",
    "seg_df['user_ID'] = seg_df_index"
   ]
  },
  {
   "cell_type": "code",
   "execution_count": 12,
   "metadata": {
    "execution": {
     "iopub.execute_input": "2020-11-22T14:00:08.148312Z",
     "iopub.status.busy": "2020-11-22T14:00:08.147110Z",
     "iopub.status.idle": "2020-11-22T14:00:08.179066Z",
     "shell.execute_reply": "2020-11-22T14:00:08.178353Z"
    },
    "papermill": {
     "duration": 0.067207,
     "end_time": "2020-11-22T14:00:08.179220",
     "exception": false,
     "start_time": "2020-11-22T14:00:08.112013",
     "status": "completed"
    },
    "tags": []
   },
   "outputs": [
    {
     "data": {
      "text/html": [
       "<div>\n",
       "<style scoped>\n",
       "    .dataframe tbody tr th:only-of-type {\n",
       "        vertical-align: middle;\n",
       "    }\n",
       "\n",
       "    .dataframe tbody tr th {\n",
       "        vertical-align: top;\n",
       "    }\n",
       "\n",
       "    .dataframe thead th {\n",
       "        text-align: right;\n",
       "    }\n",
       "</style>\n",
       "<table border=\"1\" class=\"dataframe\">\n",
       "  <thead>\n",
       "    <tr style=\"text-align: right;\">\n",
       "      <th></th>\n",
       "      <th>Recency</th>\n",
       "      <th>Frequency</th>\n",
       "      <th>MonetaryValue</th>\n",
       "      <th>user_ID</th>\n",
       "    </tr>\n",
       "  </thead>\n",
       "  <tbody>\n",
       "    <tr>\n",
       "      <th>count</th>\n",
       "      <td>44089.000000</td>\n",
       "      <td>44089.000000</td>\n",
       "      <td>44089.000000</td>\n",
       "      <td>44089.000000</td>\n",
       "    </tr>\n",
       "    <tr>\n",
       "      <th>mean</th>\n",
       "      <td>11.181678</td>\n",
       "      <td>1.133707</td>\n",
       "      <td>151.961798</td>\n",
       "      <td>22052.291864</td>\n",
       "    </tr>\n",
       "    <tr>\n",
       "      <th>std</th>\n",
       "      <td>5.788085</td>\n",
       "      <td>0.958502</td>\n",
       "      <td>184.498092</td>\n",
       "      <td>12732.300062</td>\n",
       "    </tr>\n",
       "    <tr>\n",
       "      <th>min</th>\n",
       "      <td>1.000000</td>\n",
       "      <td>1.000000</td>\n",
       "      <td>0.000000</td>\n",
       "      <td>0.000000</td>\n",
       "    </tr>\n",
       "    <tr>\n",
       "      <th>25%</th>\n",
       "      <td>6.000000</td>\n",
       "      <td>1.000000</td>\n",
       "      <td>64.730000</td>\n",
       "      <td>11027.000000</td>\n",
       "    </tr>\n",
       "    <tr>\n",
       "      <th>50%</th>\n",
       "      <td>11.000000</td>\n",
       "      <td>1.000000</td>\n",
       "      <td>108.180000</td>\n",
       "      <td>22054.000000</td>\n",
       "    </tr>\n",
       "    <tr>\n",
       "      <th>75%</th>\n",
       "      <td>17.000000</td>\n",
       "      <td>1.000000</td>\n",
       "      <td>181.640000</td>\n",
       "      <td>33078.000000</td>\n",
       "    </tr>\n",
       "    <tr>\n",
       "      <th>max</th>\n",
       "      <td>21.000000</td>\n",
       "      <td>121.000000</td>\n",
       "      <td>18463.440000</td>\n",
       "      <td>44103.000000</td>\n",
       "    </tr>\n",
       "  </tbody>\n",
       "</table>\n",
       "</div>"
      ],
      "text/plain": [
       "            Recency     Frequency  MonetaryValue       user_ID\n",
       "count  44089.000000  44089.000000   44089.000000  44089.000000\n",
       "mean      11.181678      1.133707     151.961798  22052.291864\n",
       "std        5.788085      0.958502     184.498092  12732.300062\n",
       "min        1.000000      1.000000       0.000000      0.000000\n",
       "25%        6.000000      1.000000      64.730000  11027.000000\n",
       "50%       11.000000      1.000000     108.180000  22054.000000\n",
       "75%       17.000000      1.000000     181.640000  33078.000000\n",
       "max       21.000000    121.000000   18463.440000  44103.000000"
      ]
     },
     "execution_count": 12,
     "metadata": {},
     "output_type": "execute_result"
    }
   ],
   "source": [
    "seg_df.describe()"
   ]
  },
  {
   "cell_type": "code",
   "execution_count": 13,
   "metadata": {
    "execution": {
     "iopub.execute_input": "2020-11-22T14:00:08.241533Z",
     "iopub.status.busy": "2020-11-22T14:00:08.240695Z",
     "iopub.status.idle": "2020-11-22T14:00:09.653086Z",
     "shell.execute_reply": "2020-11-22T14:00:09.653720Z"
    },
    "papermill": {
     "duration": 1.445873,
     "end_time": "2020-11-22T14:00:09.653879",
     "exception": false,
     "start_time": "2020-11-22T14:00:08.208006",
     "status": "completed"
    },
    "tags": []
   },
   "outputs": [
    {
     "data": {
      "image/png": "[encoded data removed]",
      "text/plain": [
       "<Figure size 432x288 with 4 Axes>"
      ]
     },
     "metadata": {},
     "output_type": "display_data"
    }
   ],
   "source": [
    "seg_df.hist()\n",
    "plt.tight_layout()"
   ]
  },
  {
   "cell_type": "markdown",
   "metadata": {
    "papermill": {
     "duration": 0.028909,
     "end_time": "2020-11-22T14:00:09.712264",
     "exception": false,
     "start_time": "2020-11-22T14:00:09.683355",
     "status": "completed"
    },
    "tags": []
   },
   "source": [
    "- Data points are skewed.\n",
    "- Frequency: transform using boxcox to balance the skewness.\n",
    "- Monetary Value: As this is revenue, the values will be comparatively high so taking square/cube root will improve the distribution. (making the values closer)"
   ]
  },
  {
   "cell_type": "code",
   "execution_count": 14,
   "metadata": {
    "execution": {
     "iopub.execute_input": "2020-11-22T14:00:09.776433Z",
     "iopub.status.busy": "2020-11-22T14:00:09.775403Z",
     "iopub.status.idle": "2020-11-22T14:00:09.778747Z",
     "shell.execute_reply": "2020-11-22T14:00:09.778117Z"
    },
    "papermill": {
     "duration": 0.037232,
     "end_time": "2020-11-22T14:00:09.778882",
     "exception": false,
     "start_time": "2020-11-22T14:00:09.741650",
     "status": "completed"
    },
    "tags": []
   },
   "outputs": [],
   "source": [
    "# plt.hist(stats.boxcox(df_seg['Frequency'], lmbda = 0.5)[0])"
   ]
  },
  {
   "cell_type": "code",
   "execution_count": 15,
   "metadata": {
    "execution": {
     "iopub.execute_input": "2020-11-22T14:00:09.848317Z",
     "iopub.status.busy": "2020-11-22T14:00:09.847243Z",
     "iopub.status.idle": "2020-11-22T14:00:09.967917Z",
     "shell.execute_reply": "2020-11-22T14:00:09.967155Z"
    },
    "papermill": {
     "duration": 0.159478,
     "end_time": "2020-11-22T14:00:09.968064",
     "exception": false,
     "start_time": "2020-11-22T14:00:09.808586",
     "status": "completed"
    },
    "tags": []
   },
   "outputs": [],
   "source": [
    "from scipy import stats\n",
    "seg_norm_df = seg_df.drop(['user_ID'], axis = 1)\n",
    "seg_norm_df[\"Recency\"] = stats.boxcox(seg_df['Recency'])[0]\n",
    "seg_norm_df[\"Frequency\"] = stats.boxcox(seg_df['Frequency'])[0]\n",
    "seg_norm_df[\"MonetaryValue\"] = pd.Series(np.cbrt(seg_df['MonetaryValue'] + 0.001)).values"
   ]
  },
  {
   "cell_type": "code",
   "execution_count": 16,
   "metadata": {
    "execution": {
     "iopub.execute_input": "2020-11-22T14:00:10.044500Z",
     "iopub.status.busy": "2020-11-22T14:00:10.039002Z",
     "iopub.status.idle": "2020-11-22T14:00:11.040828Z",
     "shell.execute_reply": "2020-11-22T14:00:11.040141Z"
    },
    "papermill": {
     "duration": 1.043544,
     "end_time": "2020-11-22T14:00:11.040958",
     "exception": false,
     "start_time": "2020-11-22T14:00:09.997414",
     "status": "completed"
    },
    "tags": []
   },
   "outputs": [
    {
     "data": {
      "image/png": "[encoded data removed]",
      "text/plain": [
       "<Figure size 432x288 with 4 Axes>"
      ]
     },
     "metadata": {},
     "output_type": "display_data"
    }
   ],
   "source": [
    "seg_norm_df.hist()\n",
    "plt.tight_layout()"
   ]
  },
  {
   "cell_type": "code",
   "execution_count": 17,
   "metadata": {
    "execution": {
     "iopub.execute_input": "2020-11-22T14:00:11.111643Z",
     "iopub.status.busy": "2020-11-22T14:00:11.110847Z",
     "iopub.status.idle": "2020-11-22T14:00:11.119561Z",
     "shell.execute_reply": "2020-11-22T14:00:11.118771Z"
    },
    "papermill": {
     "duration": 0.048417,
     "end_time": "2020-11-22T14:00:11.119694",
     "exception": false,
     "start_time": "2020-11-22T14:00:11.071277",
     "status": "completed"
    },
    "tags": []
   },
   "outputs": [],
   "source": [
    "from sklearn.preprocessing import MinMaxScaler\n",
    "# Alternate: StandardScaler, used MinMaxScaler to avoid -ve values.\n",
    "scaler = MinMaxScaler()\n",
    "scaler.fit(seg_norm_df)\n",
    "seg_norm = scaler.transform(seg_norm_df)"
   ]
  },
  {
   "cell_type": "code",
   "execution_count": 18,
   "metadata": {
    "execution": {
     "iopub.execute_input": "2020-11-22T14:00:11.190694Z",
     "iopub.status.busy": "2020-11-22T14:00:11.189824Z",
     "iopub.status.idle": "2020-11-22T14:00:14.623963Z",
     "shell.execute_reply": "2020-11-22T14:00:14.623192Z"
    },
    "papermill": {
     "duration": 3.473615,
     "end_time": "2020-11-22T14:00:14.624091",
     "exception": false,
     "start_time": "2020-11-22T14:00:11.150476",
     "status": "completed"
    },
    "tags": []
   },
   "outputs": [
    {
     "data": {
      "image/png": "[encoded data removed]",
      "text/plain": [
       "<Figure size 432x288 with 1 Axes>"
      ]
     },
     "metadata": {},
     "output_type": "display_data"
    }
   ],
   "source": [
    "sse = {}\n",
    "for k in range(1, 11):\n",
    "    kmeans = KMeans(n_clusters=k, random_state=2021)\n",
    "    kmeans.fit(seg_norm)\n",
    "    sse[k] = kmeans.inertia_ # SSE to closest cluster centroid\n",
    "plt.title('The Elbow Method')\n",
    "plt.xlabel('k')\n",
    "plt.ylabel('SSE')\n",
    "sns.pointplot(x=list(sse.keys()), y=list(sse.values()))\n",
    "plt.show()"
   ]
  },
  {
   "cell_type": "markdown",
   "metadata": {
    "papermill": {
     "duration": 0.031324,
     "end_time": "2020-11-22T14:00:14.688384",
     "exception": false,
     "start_time": "2020-11-22T14:00:14.657060",
     "status": "completed"
    },
    "tags": []
   },
   "source": [
    "- Elbow Plot -> 3 clusters/\n",
    "- After 3 clusters, the difference in sse is linear/nearly same."
   ]
  },
  {
   "cell_type": "code",
   "execution_count": 19,
   "metadata": {
    "execution": {
     "iopub.execute_input": "2020-11-22T14:00:14.759235Z",
     "iopub.status.busy": "2020-11-22T14:00:14.758448Z",
     "iopub.status.idle": "2020-11-22T14:00:14.910848Z",
     "shell.execute_reply": "2020-11-22T14:00:14.911688Z"
    },
    "papermill": {
     "duration": 0.191779,
     "end_time": "2020-11-22T14:00:14.911887",
     "exception": false,
     "start_time": "2020-11-22T14:00:14.720108",
     "status": "completed"
    },
    "tags": []
   },
   "outputs": [
    {
     "data": {
      "text/plain": [
       "(44089,)"
      ]
     },
     "execution_count": 19,
     "metadata": {},
     "output_type": "execute_result"
    }
   ],
   "source": [
    "model = KMeans(n_clusters=3, random_state=2021)\n",
    "model.fit(seg_norm)\n",
    "model.labels_.shape\n"
   ]
  },
  {
   "cell_type": "code",
   "execution_count": 20,
   "metadata": {
    "execution": {
     "iopub.execute_input": "2020-11-22T14:00:15.002337Z",
     "iopub.status.busy": "2020-11-22T14:00:15.001417Z",
     "iopub.status.idle": "2020-11-22T14:00:15.030560Z",
     "shell.execute_reply": "2020-11-22T14:00:15.031447Z"
    },
    "papermill": {
     "duration": 0.078836,
     "end_time": "2020-11-22T14:00:15.031664",
     "exception": false,
     "start_time": "2020-11-22T14:00:14.952828",
     "status": "completed"
    },
    "tags": []
   },
   "outputs": [
    {
     "data": {
      "text/html": [
       "<div>\n",
       "<style scoped>\n",
       "    .dataframe tbody tr th:only-of-type {\n",
       "        vertical-align: middle;\n",
       "    }\n",
       "\n",
       "    .dataframe tbody tr th {\n",
       "        vertical-align: top;\n",
       "    }\n",
       "\n",
       "    .dataframe thead th {\n",
       "        text-align: right;\n",
       "    }\n",
       "</style>\n",
       "<table border=\"1\" class=\"dataframe\">\n",
       "  <thead>\n",
       "    <tr style=\"text-align: right;\">\n",
       "      <th></th>\n",
       "      <th>Recency</th>\n",
       "      <th>Frequency</th>\n",
       "      <th>MonetaryValue</th>\n",
       "    </tr>\n",
       "    <tr>\n",
       "      <th>Cluster</th>\n",
       "      <th></th>\n",
       "      <th></th>\n",
       "      <th></th>\n",
       "    </tr>\n",
       "  </thead>\n",
       "  <tbody>\n",
       "    <tr>\n",
       "      <th>0</th>\n",
       "      <td>0.290</td>\n",
       "      <td>0.0</td>\n",
       "      <td>0.177</td>\n",
       "    </tr>\n",
       "    <tr>\n",
       "      <th>1</th>\n",
       "      <td>0.780</td>\n",
       "      <td>0.0</td>\n",
       "      <td>0.175</td>\n",
       "    </tr>\n",
       "    <tr>\n",
       "      <th>2</th>\n",
       "      <td>0.448</td>\n",
       "      <td>1.0</td>\n",
       "      <td>0.241</td>\n",
       "    </tr>\n",
       "  </tbody>\n",
       "</table>\n",
       "</div>"
      ],
      "text/plain": [
       "         Recency  Frequency  MonetaryValue\n",
       "Cluster                                   \n",
       "0          0.290        0.0          0.177\n",
       "1          0.780        0.0          0.175\n",
       "2          0.448        1.0          0.241"
      ]
     },
     "execution_count": 20,
     "metadata": {},
     "output_type": "execute_result"
    }
   ],
   "source": [
    "result_df = pd.DataFrame(seg_norm, columns = ['Recency', 'Frequency', 'MonetaryValue'])\n",
    "result_df[\"Cluster\"] = model.labels_\n",
    "result_df.groupby('Cluster').agg({\n",
    "    'Recency':'mean',\n",
    "    'Frequency':'mean',\n",
    "    'MonetaryValue':'mean'}).round(3)"
   ]
  },
  {
   "cell_type": "markdown",
   "metadata": {
    "papermill": {
     "duration": 0.036582,
     "end_time": "2020-11-22T14:00:15.109771",
     "exception": false,
     "start_time": "2020-11-22T14:00:15.073189",
     "status": "completed"
    },
    "tags": []
   },
   "source": [
    "- Cluster 0 : **New Customers**, As recency is high (ordered longback) & contribution to revenue is less.\n",
    "- Cluster 1: **Churned Customers**, As recency is low (ordered recently) & contribution to revenue is reasonable.\n",
    "- Cluster 2: **Loyal Customers**, As order frequency is high (ordered frequently) & contribution to revenue is high."
   ]
  },
  {
   "cell_type": "code",
   "execution_count": 21,
   "metadata": {
    "execution": {
     "iopub.execute_input": "2020-11-22T14:00:15.183992Z",
     "iopub.status.busy": "2020-11-22T14:00:15.182827Z",
     "iopub.status.idle": "2020-11-22T14:00:15.205251Z",
     "shell.execute_reply": "2020-11-22T14:00:15.204391Z"
    },
    "papermill": {
     "duration": 0.062322,
     "end_time": "2020-11-22T14:00:15.205378",
     "exception": false,
     "start_time": "2020-11-22T14:00:15.143056",
     "status": "completed"
    },
    "tags": []
   },
   "outputs": [
    {
     "data": {
      "text/plain": [
       "(132267, 4)"
      ]
     },
     "execution_count": 21,
     "metadata": {},
     "output_type": "execute_result"
    }
   ],
   "source": [
    "# Melt The Data\n",
    "result_melt = pd.melt(result_df.reset_index(),\n",
    "        id_vars=['index', 'Cluster'],\n",
    "        value_vars=['Recency','Frequency','MonetaryValue'],\n",
    "        var_name='Attribute',\n",
    "        value_name='Value')\n",
    "result_melt.shape"
   ]
  },
  {
   "cell_type": "code",
   "execution_count": 22,
   "metadata": {
    "execution": {
     "iopub.execute_input": "2020-11-22T14:00:15.282792Z",
     "iopub.status.busy": "2020-11-22T14:00:15.281976Z",
     "iopub.status.idle": "2020-11-22T14:00:15.296687Z",
     "shell.execute_reply": "2020-11-22T14:00:15.295946Z"
    },
    "papermill": {
     "duration": 0.056137,
     "end_time": "2020-11-22T14:00:15.296824",
     "exception": false,
     "start_time": "2020-11-22T14:00:15.240687",
     "status": "completed"
    },
    "tags": []
   },
   "outputs": [],
   "source": [
    "result_melt['Cluster'].replace({0: 'New', 1:'Churned', 2:'Loyal'}, inplace = True)"
   ]
  },
  {
   "cell_type": "code",
   "execution_count": 23,
   "metadata": {
    "execution": {
     "iopub.execute_input": "2020-11-22T14:00:15.386578Z",
     "iopub.status.busy": "2020-11-22T14:00:15.385757Z",
     "iopub.status.idle": "2020-11-22T14:00:17.332005Z",
     "shell.execute_reply": "2020-11-22T14:00:17.331319Z"
    },
    "papermill": {
     "duration": 2.00052,
     "end_time": "2020-11-22T14:00:17.332138",
     "exception": false,
     "start_time": "2020-11-22T14:00:15.331618",
     "status": "completed"
    },
    "tags": []
   },
   "outputs": [
    {
     "data": {
      "text/plain": [
       "<matplotlib.axes._subplots.AxesSubplot at 0x7f5e50afdcd0>"
      ]
     },
     "execution_count": 23,
     "metadata": {},
     "output_type": "execute_result"
    },
    {
     "data": {
      "image/png": "[encoded data removed]",
      "text/plain": [
       "<Figure size 432x288 with 1 Axes>"
      ]
     },
     "metadata": {},
     "output_type": "display_data"
    }
   ],
   "source": [
    "# Visualize it\n",
    "# sns.set(style=\"whitegrid\")\n",
    "sns.lineplot('Attribute', 'Value', hue='Cluster', \n",
    "             data=result_melt.sort_values(by = 'Cluster'),\n",
    "             palette=None)"
   ]
  },
  {
   "cell_type": "code",
   "execution_count": 24,
   "metadata": {
    "execution": {
     "iopub.execute_input": "2020-11-22T14:00:17.410188Z",
     "iopub.status.busy": "2020-11-22T14:00:17.409380Z",
     "iopub.status.idle": "2020-11-22T14:00:17.429394Z",
     "shell.execute_reply": "2020-11-22T14:00:17.428677Z"
    },
    "papermill": {
     "duration": 0.061421,
     "end_time": "2020-11-22T14:00:17.429530",
     "exception": false,
     "start_time": "2020-11-22T14:00:17.368109",
     "status": "completed"
    },
    "tags": []
   },
   "outputs": [
    {
     "data": {
      "text/plain": [
       "Churned    22540\n",
       "New        17238\n",
       "Loyal       4311\n",
       "Name: Customer_Type, dtype: int64"
      ]
     },
     "execution_count": 24,
     "metadata": {},
     "output_type": "execute_result"
    }
   ],
   "source": [
    "seg_df['Customer_Type'] = result_melt['Cluster']\n",
    "seg_df['Customer_Type'] .value_counts()"
   ]
  },
  {
   "cell_type": "code",
   "execution_count": 25,
   "metadata": {
    "execution": {
     "iopub.execute_input": "2020-11-22T14:00:17.519206Z",
     "iopub.status.busy": "2020-11-22T14:00:17.518394Z",
     "iopub.status.idle": "2020-11-22T14:00:17.552219Z",
     "shell.execute_reply": "2020-11-22T14:00:17.551423Z"
    },
    "papermill": {
     "duration": 0.085901,
     "end_time": "2020-11-22T14:00:17.552349",
     "exception": false,
     "start_time": "2020-11-22T14:00:17.466448",
     "status": "completed"
    },
    "tags": []
   },
   "outputs": [
    {
     "data": {
      "text/html": [
       "<div>\n",
       "<style scoped>\n",
       "    .dataframe tbody tr th:only-of-type {\n",
       "        vertical-align: middle;\n",
       "    }\n",
       "\n",
       "    .dataframe tbody tr th {\n",
       "        vertical-align: top;\n",
       "    }\n",
       "\n",
       "    .dataframe thead th {\n",
       "        text-align: right;\n",
       "    }\n",
       "</style>\n",
       "<table border=\"1\" class=\"dataframe\">\n",
       "  <thead>\n",
       "    <tr style=\"text-align: right;\">\n",
       "      <th></th>\n",
       "      <th>num_customers</th>\n",
       "      <th>num_orders</th>\n",
       "      <th>avg_order_freq</th>\n",
       "      <th>avg_order_recency</th>\n",
       "      <th>avg_revenue</th>\n",
       "    </tr>\n",
       "    <tr>\n",
       "      <th>Customer_Type</th>\n",
       "      <th></th>\n",
       "      <th></th>\n",
       "      <th></th>\n",
       "      <th></th>\n",
       "      <th></th>\n",
       "    </tr>\n",
       "  </thead>\n",
       "  <tbody>\n",
       "    <tr>\n",
       "      <th>Churned</th>\n",
       "      <td>22540</td>\n",
       "      <td>22540</td>\n",
       "      <td>1.000000</td>\n",
       "      <td>15.805413</td>\n",
       "      <td>130.618210</td>\n",
       "    </tr>\n",
       "    <tr>\n",
       "      <th>Loyal</th>\n",
       "      <td>4311</td>\n",
       "      <td>10206</td>\n",
       "      <td>2.367432</td>\n",
       "      <td>8.932962</td>\n",
       "      <td>327.981923</td>\n",
       "    </tr>\n",
       "    <tr>\n",
       "      <th>New</th>\n",
       "      <td>17238</td>\n",
       "      <td>17238</td>\n",
       "      <td>1.000000</td>\n",
       "      <td>5.698167</td>\n",
       "      <td>135.849820</td>\n",
       "    </tr>\n",
       "  </tbody>\n",
       "</table>\n",
       "</div>"
      ],
      "text/plain": [
       "               num_customers  num_orders  avg_order_freq  avg_order_recency  \\\n",
       "Customer_Type                                                                 \n",
       "Churned                22540       22540        1.000000          15.805413   \n",
       "Loyal                   4311       10206        2.367432           8.932962   \n",
       "New                    17238       17238        1.000000           5.698167   \n",
       "\n",
       "               avg_revenue  \n",
       "Customer_Type               \n",
       "Churned         130.618210  \n",
       "Loyal           327.981923  \n",
       "New             135.849820  "
      ]
     },
     "execution_count": 25,
     "metadata": {},
     "output_type": "execute_result"
    }
   ],
   "source": [
    "segments = seg_df.groupby('Customer_Type').agg(num_customers = ('Customer_Type', 'count'),\n",
    "                                    num_orders =('Frequency', 'sum'),\n",
    "                                    avg_order_freq =('Frequency', 'mean'),\n",
    "                                    avg_order_recency =('Recency', 'mean'),\n",
    "                                    avg_revenue =('MonetaryValue', 'mean')\n",
    "                                              ).sort_index()\n",
    "segments"
   ]
  },
  {
   "cell_type": "code",
   "execution_count": 26,
   "metadata": {
    "execution": {
     "iopub.execute_input": "2020-11-22T14:00:17.643838Z",
     "iopub.status.busy": "2020-11-22T14:00:17.637035Z",
     "iopub.status.idle": "2020-11-22T14:00:17.847004Z",
     "shell.execute_reply": "2020-11-22T14:00:17.845972Z"
    },
    "papermill": {
     "duration": 0.257178,
     "end_time": "2020-11-22T14:00:17.847149",
     "exception": false,
     "start_time": "2020-11-22T14:00:17.589971",
     "status": "completed"
    },
    "tags": []
   },
   "outputs": [
    {
     "data": {
      "image/png": "[encoded data removed]",
      "text/plain": [
       "<Figure size 864x864 with 2 Axes>"
      ]
     },
     "metadata": {},
     "output_type": "display_data"
    }
   ],
   "source": [
    "fig, ax = plt.subplots(1,2, figsize=(12,12))\n",
    "ax = ax.flatten()\n",
    "for i,cat in enumerate(['num_customers', 'avg_revenue']):\n",
    "    segments.plot(ax=ax[i], y = cat, kind='pie', \n",
    "                   autopct='%1.f%%', startangle=90, legend = True, ylabel = '')\n",
    "    ax[i].set_ylabel('')\n",
    "    ax[i].set_title(f\"{cat} per Segment\", fontweight='bold')"
   ]
  },
  {
   "cell_type": "code",
   "execution_count": 27,
   "metadata": {
    "execution": {
     "iopub.execute_input": "2020-11-22T14:00:17.932112Z",
     "iopub.status.busy": "2020-11-22T14:00:17.931253Z",
     "iopub.status.idle": "2020-11-22T14:00:18.443672Z",
     "shell.execute_reply": "2020-11-22T14:00:18.442915Z"
    },
    "papermill": {
     "duration": 0.557624,
     "end_time": "2020-11-22T14:00:18.443796",
     "exception": false,
     "start_time": "2020-11-22T14:00:17.886172",
     "status": "completed"
    },
    "tags": []
   },
   "outputs": [
    {
     "data": {
      "text/plain": [
       "((44089, 5),\n",
       " Index(['Recency', 'Frequency', 'MonetaryValue', 'user_ID', 'Customer_Type'], dtype='object'))"
      ]
     },
     "execution_count": 27,
     "metadata": {},
     "output_type": "execute_result"
    }
   ],
   "source": [
    "seg_df.to_csv('FashionData_Segmented.csv', index = False)\n",
    "seg_df.shape, seg_df.columns"
   ]
  }
 ],
 "metadata": {
  "kernelspec": {
   "display_name": "Python 3",
   "language": "python",
   "name": "python3"
  },
  "language_info": {
   "codemirror_mode": {
    "name": "ipython",
    "version": 3
   },
   "file_extension": ".py",
   "mimetype": "text/x-python",
   "name": "python",
   "nbconvert_exporter": "python",
   "pygments_lexer": "ipython3",
   "version": "3.7.6"
  },
  "papermill": {
   "duration": 25.003515,
   "end_time": "2020-11-22T14:00:19.507851",
   "environment_variables": {},
   "exception": null,
   "input_path": "__notebook__.ipynb",
   "output_path": "__notebook__.ipynb",
   "parameters": {},
   "start_time": "2020-11-22T13:59:54.504336",
   "version": "2.1.0"
  }
 },
 "nbformat": 4,
 "nbformat_minor": 4
}
